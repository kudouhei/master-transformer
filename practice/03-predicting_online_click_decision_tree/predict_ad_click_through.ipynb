{
  "nbformat": 4,
  "nbformat_minor": 0,
  "metadata": {
    "colab": {
      "provenance": []
    },
    "kernelspec": {
      "name": "python3",
      "display_name": "Python 3"
    },
    "language_info": {
      "name": "python"
    }
  },
  "cells": [
    {
      "cell_type": "code",
      "execution_count": 13,
      "metadata": {
        "id": "yQt_Qn3muX2y"
      },
      "outputs": [],
      "source": [
        "import pandas as pd"
      ]
    },
    {
      "cell_type": "code",
      "source": [
        "n_rows = 30000\n",
        "\n",
        "df = pd.read_csv(\"train.gz\", nrows=n_rows)\n",
        "\n",
        "print(df.head(5))"
      ],
      "metadata": {
        "colab": {
          "base_uri": "https://localhost:8080/"
        },
        "id": "DSk7x_C40Mal",
        "outputId": "60533378-7e87-421a-debb-053d971ebe64"
      },
      "execution_count": 15,
      "outputs": [
        {
          "output_type": "stream",
          "name": "stdout",
          "text": [
            "                     id  click      hour    C1  banner_pos   site_id  \\\n",
            "0   1000009418151094273      0  14102100  1005           0  1fbe01fe   \n",
            "1  10000169349117863715      0  14102100  1005           0  1fbe01fe   \n",
            "2  10000371904215119486      0  14102100  1005           0  1fbe01fe   \n",
            "3  10000640724480838376      0  14102100  1005           0  1fbe01fe   \n",
            "4  10000679056417042096      0  14102100  1005           1  fe8cc448   \n",
            "\n",
            "  site_domain site_category    app_id app_domain  ... device_type  \\\n",
            "0    f3845767      28905ebd  ecad2386   7801e8d9  ...           1   \n",
            "1    f3845767      28905ebd  ecad2386   7801e8d9  ...           1   \n",
            "2    f3845767      28905ebd  ecad2386   7801e8d9  ...           1   \n",
            "3    f3845767      28905ebd  ecad2386   7801e8d9  ...           1   \n",
            "4    9166c161      0569f928  ecad2386   7801e8d9  ...           1   \n",
            "\n",
            "  device_conn_type    C14  C15  C16   C17  C18  C19     C20  C21  \n",
            "0                2  15706  320   50  1722    0   35      -1   79  \n",
            "1                0  15704  320   50  1722    0   35  100084   79  \n",
            "2                0  15704  320   50  1722    0   35  100084   79  \n",
            "3                0  15706  320   50  1722    0   35  100084   79  \n",
            "4                0  18993  320   50  2161    0   35      -1  157  \n",
            "\n",
            "[5 rows x 24 columns]\n"
          ]
        }
      ]
    },
    {
      "cell_type": "code",
      "source": [
        "X = df.drop(['click', 'id', 'hour', 'device_id', 'device_ip'], axis=1).values\n",
        "\n",
        "Y = df['click'].values\n",
        "\n",
        "print(X.shape)"
      ],
      "metadata": {
        "colab": {
          "base_uri": "https://localhost:8080/"
        },
        "id": "68K4KLjq1PtA",
        "outputId": "6a358da0-c4f2-49ff-feea-907ced01c74f"
      },
      "execution_count": 16,
      "outputs": [
        {
          "output_type": "stream",
          "name": "stdout",
          "text": [
            "(30000, 19)\n"
          ]
        }
      ]
    },
    {
      "cell_type": "code",
      "source": [
        "n_train = int(n_rows * 0.9)\n",
        "X_train = X[:n_train]\n",
        "Y_train = Y[:n_train]\n",
        "\n",
        "X_test = X[n_train:]\n",
        "Y_test = Y[n_train:]"
      ],
      "metadata": {
        "id": "Dp3xP6DL1fz1"
      },
      "execution_count": 18,
      "outputs": []
    },
    {
      "cell_type": "code",
      "source": [
        "from sklearn.preprocessing import OneHotEncoder\n",
        "\n",
        "enc = OneHotEncoder(handle_unknown='ignore')\n",
        "\n",
        "X_train_enc = enc.fit_transform(X_train)\n",
        "X_train_enc[0]\n",
        "\n",
        "print(X_train_enc[0])"
      ],
      "metadata": {
        "colab": {
          "base_uri": "https://localhost:8080/"
        },
        "id": "Fj5h08Tq1mVM",
        "outputId": "f06dea4c-9661-448c-8fc7-a545bad9b31e"
      },
      "execution_count": 19,
      "outputs": [
        {
          "output_type": "stream",
          "name": "stdout",
          "text": [
            "<Compressed Sparse Row sparse matrix of dtype 'float64'\n",
            "\twith 19 stored elements and shape (1, 3929)>\n",
            "  Coords\tValues\n",
            "  (0, 2)\t1.0\n",
            "  (0, 6)\t1.0\n",
            "  (0, 71)\t1.0\n",
            "  (0, 1002)\t1.0\n",
            "  (0, 1024)\t1.0\n",
            "  (0, 1460)\t1.0\n",
            "  (0, 1508)\t1.0\n",
            "  (0, 1529)\t1.0\n",
            "  (0, 2016)\t1.0\n",
            "  (0, 3257)\t1.0\n",
            "  (0, 3261)\t1.0\n",
            "  (0, 3361)\t1.0\n",
            "  (0, 3605)\t1.0\n",
            "  (0, 3609)\t1.0\n",
            "  (0, 3644)\t1.0\n",
            "  (0, 3735)\t1.0\n",
            "  (0, 3740)\t1.0\n",
            "  (0, 3775)\t1.0\n",
            "  (0, 3915)\t1.0\n"
          ]
        }
      ]
    },
    {
      "cell_type": "code",
      "source": [
        "X_test_enc = enc.transform(X_test)"
      ],
      "metadata": {
        "id": "IzMKhiWN1vPm"
      },
      "execution_count": 20,
      "outputs": []
    },
    {
      "cell_type": "code",
      "source": [
        "from sklearn.tree import DecisionTreeClassifier\n",
        "\n",
        "parameters = {'max_depth': [3, 10, None]}\n",
        "\n",
        "decision_tree = DecisionTreeClassifier(criterion='gini', min_samples_split=30)\n",
        "\n",
        "from sklearn.model_selection import GridSearchCV\n",
        "\n",
        "grid_search = GridSearchCV(decision_tree, parameters, n_jobs=-1, cv=3, scoring='roc_auc')\n",
        "\n",
        "grid_search.fit(X_train_enc, Y_train)\n",
        "print(grid_search.best_params_)"
      ],
      "metadata": {
        "colab": {
          "base_uri": "https://localhost:8080/"
        },
        "id": "8Ta6G4dB1xft",
        "outputId": "275fc36d-8506-49b8-f5dc-084565d48988"
      },
      "execution_count": 21,
      "outputs": [
        {
          "output_type": "stream",
          "name": "stdout",
          "text": [
            "{'max_depth': 10}\n"
          ]
        }
      ]
    },
    {
      "cell_type": "code",
      "source": [
        "decision_tree_best = grid_search.best_estimator_\n",
        "pos_prob = decision_tree_best.predict_proba(X_test_enc)[:, 1]\n",
        "\n",
        "from sklearn.metrics import roc_auc_score\n",
        "print(f'The ROC AUC on testing set is: {roc_auc_score(Y_test, pos_prob):.3f}')"
      ],
      "metadata": {
        "colab": {
          "base_uri": "https://localhost:8080/"
        },
        "id": "qe5HAukQ16Zy",
        "outputId": "3687b463-6a6b-466f-c7d7-263d546d6afd"
      },
      "execution_count": 22,
      "outputs": [
        {
          "output_type": "stream",
          "name": "stdout",
          "text": [
            "The ROC AUC on testing set is: 0.679\n"
          ]
        }
      ]
    },
    {
      "cell_type": "code",
      "source": [
        "import numpy as np\n",
        "pos_prob = np.zeros(len(Y_test))\n",
        "click_index = np.random.choice(len(Y_test), int(len(Y_test) *  51211.0/300000), replace=False)\n",
        "pos_prob[click_index] = 1\n",
        "\n",
        "print(f'The ROC AUC on testing set using random selection is: {roc_auc_score(Y_test, pos_prob):.3f}')"
      ],
      "metadata": {
        "colab": {
          "base_uri": "https://localhost:8080/"
        },
        "id": "qHmWH5WB18t3",
        "outputId": "d7f8b43c-4397-48a9-e981-be1444250856"
      },
      "execution_count": 24,
      "outputs": [
        {
          "output_type": "stream",
          "name": "stdout",
          "text": [
            "The ROC AUC on testing set using random selection is: 0.504\n"
          ]
        }
      ]
    },
    {
      "cell_type": "markdown",
      "source": [
        "### Ensembling decision trees – random forest"
      ],
      "metadata": {
        "id": "sYoXYVPl2C9V"
      }
    },
    {
      "cell_type": "code",
      "source": [
        "from sklearn.ensemble import RandomForestClassifier\n",
        "\n",
        "random_forest = RandomForestClassifier(n_estimators=100, criterion='gini', min_samples_split=30, n_jobs=-1)\n",
        "\n",
        "grid_search = GridSearchCV(random_forest, parameters, n_jobs=-1, cv=3, scoring='roc_auc')\n",
        "grid_search.fit(X_train_enc, Y_train)\n",
        "\n",
        "print(grid_search.best_params_)"
      ],
      "metadata": {
        "colab": {
          "base_uri": "https://localhost:8080/"
        },
        "id": "V6nfVAh-2AxV",
        "outputId": "adf51413-fc6b-4b60-a810-9dbe708dcd48"
      },
      "execution_count": 26,
      "outputs": [
        {
          "output_type": "stream",
          "name": "stdout",
          "text": [
            "{'max_depth': None}\n"
          ]
        }
      ]
    },
    {
      "cell_type": "code",
      "source": [
        "random_forest_best = grid_search.best_estimator_\n",
        "pos_prob = random_forest_best.predict_proba(X_test_enc)[:, 1]\n",
        "print(f'The ROC AUC on testing set using random forest is: {roc_auc_score(Y_test, pos_prob):.3f}')"
      ],
      "metadata": {
        "colab": {
          "base_uri": "https://localhost:8080/"
        },
        "id": "-pyf_ebp2ORJ",
        "outputId": "782e3891-9c85-4f65-b859-881ed03c7b8e"
      },
      "execution_count": 27,
      "outputs": [
        {
          "output_type": "stream",
          "name": "stdout",
          "text": [
            "The ROC AUC on testing set using random forest is: 0.706\n"
          ]
        }
      ]
    }
  ]
}