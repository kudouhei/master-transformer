{
  "nbformat": 4,
  "nbformat_minor": 0,
  "metadata": {
    "colab": {
      "provenance": []
    },
    "kernelspec": {
      "name": "python3",
      "display_name": "Python 3"
    },
    "language_info": {
      "name": "python"
    }
  },
  "cells": [
    {
      "cell_type": "code",
      "execution_count": 3,
      "metadata": {
        "colab": {
          "base_uri": "https://localhost:8080/"
        },
        "id": "NCUlGmBycm07",
        "outputId": "d289619a-3b54-4e92-bf64-614dcfb581d9"
      },
      "outputs": [
        {
          "output_type": "stream",
          "name": "stdout",
          "text": [
            "[[0. 0. 1. 1. 0. 0.]\n",
            " [1. 0. 0. 0. 0. 1.]\n",
            " [1. 0. 0. 1. 0. 0.]\n",
            " [0. 1. 0. 0. 0. 1.]\n",
            " [0. 0. 1. 0. 0. 1.]\n",
            " [0. 0. 1. 0. 1. 0.]\n",
            " [0. 1. 0. 1. 0. 0.]]\n"
          ]
        }
      ],
      "source": [
        "from sklearn.feature_extraction import DictVectorizer\n",
        "\n",
        "X_dict = [{'interest': 'tech', 'occupation': 'professional'},\n",
        "          {'interest': 'fashion', 'occupation': 'student'},\n",
        "          {'interest': 'fashion', 'occupation': 'professional'},\n",
        "          {'interest': 'sports', 'occupation': 'student'},\n",
        "          {'interest': 'tech', 'occupation': 'student'},\n",
        "          {'interest': 'tech', 'occupation': 'retired'},\n",
        "          {'interest': 'sports', 'occupation': 'professional'}]\n",
        "\n",
        "dict_one_hot_encoder = DictVectorizer(sparse=False)\n",
        "\n",
        "X_encoded = dict_one_hot_encoder.fit_transform(X_dict)\n",
        "\n",
        "print(X_encoded)"
      ]
    },
    {
      "cell_type": "code",
      "source": [
        "print(dict_one_hot_encoder.vocabulary_)"
      ],
      "metadata": {
        "colab": {
          "base_uri": "https://localhost:8080/"
        },
        "id": "uiLVf261dLcz",
        "outputId": "8aa42336-0607-4deb-af3f-b711f8455616"
      },
      "execution_count": 2,
      "outputs": [
        {
          "output_type": "stream",
          "name": "stdout",
          "text": [
            "{'interest=tech': 2, 'occupation=professional': 3, 'interest=fashion': 0, 'occupation=student': 5, 'interest=sports': 1, 'occupation=retired': 4}\n"
          ]
        }
      ]
    },
    {
      "cell_type": "code",
      "source": [
        "new_dict = [{'interest': 'sports', 'occupation': 'retired'}]\n",
        "new_encoded = dict_one_hot_encoder.transform(new_dict)\n",
        "\n",
        "print(new_encoded)"
      ],
      "metadata": {
        "colab": {
          "base_uri": "https://localhost:8080/"
        },
        "id": "LWct1bHfdge2",
        "outputId": "e86c3507-d60b-4931-aa2e-4c618da34fdc"
      },
      "execution_count": 5,
      "outputs": [
        {
          "output_type": "stream",
          "name": "stdout",
          "text": [
            "[[0. 1. 0. 0. 1. 0.]]\n"
          ]
        }
      ]
    },
    {
      "cell_type": "code",
      "source": [
        "print(dict_one_hot_encoder.inverse_transform(new_encoded))\n"
      ],
      "metadata": {
        "colab": {
          "base_uri": "https://localhost:8080/"
        },
        "id": "8q4CwMf6dqGp",
        "outputId": "33b6b6d7-0d87-4a4c-efe9-33c32d233cb0"
      },
      "execution_count": 6,
      "outputs": [
        {
          "output_type": "stream",
          "name": "stdout",
          "text": [
            "[{'interest=sports': np.float64(1.0), 'occupation=retired': np.float64(1.0)}]\n"
          ]
        }
      ]
    },
    {
      "cell_type": "code",
      "source": [
        "# new category not encountered before\n",
        "new_dict = [{'interest': 'unknown_interest', 'occupation': 'retired'},\n",
        "            {'interest': 'tech', 'occupation': 'unseen_occupation'}]\n",
        "new_encoded = dict_one_hot_encoder.transform(new_dict)\n",
        "print(new_encoded)"
      ],
      "metadata": {
        "colab": {
          "base_uri": "https://localhost:8080/"
        },
        "id": "cTC4rR8qd4TV",
        "outputId": "ddaca81a-bee5-4f4f-fda7-75a4f42624ed"
      },
      "execution_count": 7,
      "outputs": [
        {
          "output_type": "stream",
          "name": "stdout",
          "text": [
            "[[0. 0. 0. 0. 1. 0.]\n",
            " [0. 0. 1. 0. 0. 0.]]\n"
          ]
        }
      ]
    },
    {
      "cell_type": "code",
      "source": [
        "import pandas as pd\n",
        "df = pd.DataFrame({'score': ['low',\n",
        "                             'high',\n",
        "                             'medium',\n",
        "                             'medium',\n",
        "                             'low']})\n",
        "print(df)\n",
        "\n",
        "mapping = {'low':1, 'medium':2, 'high':3}\n",
        "df['score'] = df['score'].replace(mapping)\n",
        "\n",
        "print(df)"
      ],
      "metadata": {
        "colab": {
          "base_uri": "https://localhost:8080/"
        },
        "id": "I_ysL4mheMyY",
        "outputId": "07196034-bed7-4baa-fb9b-33a7fdd0b88f"
      },
      "execution_count": 8,
      "outputs": [
        {
          "output_type": "stream",
          "name": "stdout",
          "text": [
            "    score\n",
            "0     low\n",
            "1    high\n",
            "2  medium\n",
            "3  medium\n",
            "4     low\n",
            "   score\n",
            "0      1\n",
            "1      3\n",
            "2      2\n",
            "3      2\n",
            "4      1\n"
          ]
        },
        {
          "output_type": "stream",
          "name": "stderr",
          "text": [
            "<ipython-input-8-fa943619a0f4>:10: FutureWarning: Downcasting behavior in `replace` is deprecated and will be removed in a future version. To retain the old behavior, explicitly call `result.infer_objects(copy=False)`. To opt-in to the future behavior, set `pd.set_option('future.no_silent_downcasting', True)`\n",
            "  df['score'] = df['score'].replace(mapping)\n"
          ]
        }
      ]
    },
    {
      "cell_type": "markdown",
      "source": [
        "## Classifying data with logistic regression"
      ],
      "metadata": {
        "id": "g6lQVqdrehL5"
      }
    },
    {
      "cell_type": "code",
      "source": [
        "import numpy as np\n",
        "import matplotlib.pyplot as plt\n"
      ],
      "metadata": {
        "id": "gt2i74qJejq_"
      },
      "execution_count": 9,
      "outputs": []
    },
    {
      "cell_type": "code",
      "source": [
        "def sigmoid(input):\n",
        "    return 1.0 / (1 + np.exp(-input))\n",
        "\n",
        "z = np.linspace(-8, 8, 1000)\n",
        "y = sigmoid(z)\n",
        "\n",
        "plt.plot(z, y)\n",
        "plt.axhline(y=0, ls='dotted', color='k')\n",
        "plt.axhline(y=0.5, ls='dotted', color='k')\n",
        "plt.axhline(y=1, ls='dotted', color='k')\n",
        "plt.yticks([0.0, 0.25, 0.5, 0.75, 1.0])\n",
        "plt.xlabel('z')\n",
        "plt.ylabel('y(z)')\n",
        "plt.show()\n"
      ],
      "metadata": {
        "colab": {
          "base_uri": "https://localhost:8080/",
          "height": 449
        },
        "id": "egojbxCHepS4",
        "outputId": "6ad754d8-0814-480a-d5f6-7f783ef9d3fb"
      },
      "execution_count": 10,
      "outputs": [
        {
          "output_type": "display_data",
          "data": {
            "text/plain": [
              "<Figure size 640x480 with 1 Axes>"
            ],
            "image/png": "[encoded data removed]"
          },
          "metadata": {}
        }
      ]
    },
    {
      "cell_type": "code",
      "source": [
        "# plot sample cost vs y_hat (prediction), for y (truth) = 1\n",
        "\n",
        "y_hat = np.linspace(0.001, 0.999, 1000)\n",
        "cost = -np.log(y_hat)\n",
        "\n",
        "plt.plot(y_hat, cost)\n",
        "plt.xlabel('Prediction')\n",
        "plt.ylabel('Cost')\n",
        "plt.xlim(0, 1)\n",
        "plt.ylim(0, 7)\n",
        "plt.show()"
      ],
      "metadata": {
        "colab": {
          "base_uri": "https://localhost:8080/",
          "height": 455
        },
        "id": "37j_fTIQe7Sr",
        "outputId": "72b8f813-18e6-4e8b-d855-91d376d7f8de"
      },
      "execution_count": 11,
      "outputs": [
        {
          "output_type": "display_data",
          "data": {
            "text/plain": [
              "<Figure size 640x480 with 1 Axes>"
            ],
            "image/png": "[encoded data removed]"
          },
          "metadata": {}
        }
      ]
    },
    {
      "cell_type": "code",
      "source": [
        "\n",
        "# plot sample cost vs y_hat (prediction), for y (truth) = 0\n",
        "y_hat = np.linspace(0.001, 0.999, 1000)\n",
        "cost = -np.log(1 - y_hat)\n",
        "plt.plot(y_hat, cost)\n",
        "plt.xlabel('Prediction')\n",
        "plt.ylabel('Cost')\n",
        "plt.xlim(0, 1)\n",
        "plt.ylim(0, 7)\n",
        "plt.show()"
      ],
      "metadata": {
        "colab": {
          "base_uri": "https://localhost:8080/",
          "height": 455
        },
        "id": "LlulCjh6fN9u",
        "outputId": "40ee386d-8d90-48fc-cc4b-a064eaef7bd5"
      },
      "execution_count": 12,
      "outputs": [
        {
          "output_type": "display_data",
          "data": {
            "text/plain": [
              "<Figure size 640x480 with 1 Axes>"
            ],
            "image/png": "[encoded data removed]"
          },
          "metadata": {}
        }
      ]
    },
    {
      "cell_type": "markdown",
      "source": [
        "## Training a logistic regression model"
      ],
      "metadata": {
        "id": "tsJyWFt5flNW"
      }
    },
    {
      "cell_type": "code",
      "source": [
        "# Gradient descent based logistic regression from scratch\n",
        "def compute_prediction(X, weights):\n",
        "    \"\"\"\n",
        "    Compute the prediction y_hat based on current weights\n",
        "    \"\"\"\n",
        "    z = np.dot(X, weights)\n",
        "    return sigmoid(z)"
      ],
      "metadata": {
        "id": "hkVzskr7fsFu"
      },
      "execution_count": 13,
      "outputs": []
    },
    {
      "cell_type": "code",
      "source": [
        "def update_weights_gd(X_train, y_train, weights, learning_rate):\n",
        "    \"\"\"\n",
        "    Update weights by one step\n",
        "    \"\"\"\n",
        "    predictions = compute_prediction(X_train, weights)\n",
        "    weights_delta = np.dot(X_train.T, y_train - predictions)\n",
        "    m = y_train.shape[0]\n",
        "    weights += learning_rate / float(m) * weights_delta\n",
        "    return weights"
      ],
      "metadata": {
        "id": "eZvBv3YLf4ib"
      },
      "execution_count": 14,
      "outputs": []
    },
    {
      "cell_type": "code",
      "source": [
        "def compute_cost(X, y, weights):\n",
        "    \"\"\"\n",
        "     Compute the cost J(w)\n",
        "    \"\"\"\n",
        "    predictions = compute_prediction(X, weights)\n",
        "    cost = np.mean(-y * np.log(predictions) - (1 - y) * np.log(1 - predictions))\n",
        "    return cost"
      ],
      "metadata": {
        "id": "1hvH9ueBf6F5"
      },
      "execution_count": 15,
      "outputs": []
    },
    {
      "cell_type": "code",
      "source": [
        "def train_logistic_regression(X_train, y_train, max_iter, learning_rate, fit_intercept=False):\n",
        "    \"\"\" Train a logistic regression model\n",
        "    Args:\n",
        "        X_train, y_train (numpy.ndarray, training data set)\n",
        "        max_iter (int, number of iterations)\n",
        "        learning_rate (float)\n",
        "        fit_intercept (bool, with an intercept w0 or not)\n",
        "    Returns:\n",
        "        numpy.ndarray, learned weights\n",
        "    \"\"\"\n",
        "    if fit_intercept:\n",
        "        intercept = np.ones((X_train.shape[0], 1))\n",
        "        X_train = np.hstack((intercept, X_train))\n",
        "    weights = np.zeros(X_train.shape[1])\n",
        "    for iteration in range(max_iter):\n",
        "        weights = update_weights_gd(X_train, y_train, weights, learning_rate)\n",
        "        # Check the cost for every 100 (for example) iterations\n",
        "        if iteration % 100 == 0:\n",
        "            print(compute_cost(X_train, y_train, weights))\n",
        "    return weights"
      ],
      "metadata": {
        "id": "gylT-JSjggut"
      },
      "execution_count": 16,
      "outputs": []
    },
    {
      "cell_type": "code",
      "source": [
        "def predict(X, weights):\n",
        "    if X.shape[1] == weights.shape[0] - 1:\n",
        "        intercept = np.ones((X.shape[0], 1))\n",
        "        X = np.hstack((intercept, X))\n",
        "    return compute_prediction(X, weights)"
      ],
      "metadata": {
        "id": "iykY45Jpgk1m"
      },
      "execution_count": 17,
      "outputs": []
    },
    {
      "cell_type": "code",
      "source": [
        "# A example\n",
        "X_train = np.array([[6, 7],\n",
        "                    [2, 4],\n",
        "                    [3, 6],\n",
        "                    [4, 7],\n",
        "                    [1, 6],\n",
        "                    [5, 2],\n",
        "                    [2, 0],\n",
        "                    [6, 3],\n",
        "                    [4, 1],\n",
        "                    [7, 2]])\n",
        "\n",
        "y_train = np.array([0,\n",
        "                    0,\n",
        "                    0,\n",
        "                    0,\n",
        "                    0,\n",
        "                    1,\n",
        "                    1,\n",
        "                    1,\n",
        "                    1,\n",
        "                    1])\n"
      ],
      "metadata": {
        "id": "MhIoQrhtgmtY"
      },
      "execution_count": 18,
      "outputs": []
    },
    {
      "cell_type": "code",
      "source": [
        "weights = train_logistic_regression(X_train, y_train, max_iter=1000, learning_rate=0.1, fit_intercept=True)\n"
      ],
      "metadata": {
        "colab": {
          "base_uri": "https://localhost:8080/"
        },
        "id": "72Lti15RgoHO",
        "outputId": "3da7040f-4d1c-474e-8cf8-b1961dffeba8"
      },
      "execution_count": 19,
      "outputs": [
        {
          "output_type": "stream",
          "name": "stdout",
          "text": [
            "0.5744042371657099\n",
            "0.034460223392510314\n",
            "0.018265572708476167\n",
            "0.012493458388041119\n",
            "0.00951532913854745\n",
            "0.007693388060646946\n",
            "0.0064620943335143306\n",
            "0.005573511846832282\n",
            "0.004901632254525041\n",
            "0.004375567740665165\n"
          ]
        }
      ]
    },
    {
      "cell_type": "code",
      "source": [
        "X_test = np.array([[6, 1],\n",
        "                   [1, 3],\n",
        "                   [3, 1],\n",
        "                   [4, 5]])\n",
        "\n",
        "predictions = predict(X_test, weights)\n",
        "print(predictions)"
      ],
      "metadata": {
        "colab": {
          "base_uri": "https://localhost:8080/"
        },
        "id": "YT5III_fgtpw",
        "outputId": "ae770ed6-4e9e-4b24-c260-9e94f88e0a86"
      },
      "execution_count": 20,
      "outputs": [
        {
          "output_type": "stream",
          "name": "stdout",
          "text": [
            "[0.9999478  0.00743991 0.9808652  0.02080847]\n"
          ]
        }
      ]
    },
    {
      "cell_type": "code",
      "source": [
        "plt.scatter(X_train[:5,0], X_train[:5,1], c='b', marker='x')\n",
        "plt.scatter(X_train[5:,0], X_train[5:,1], c='k', marker='.')\n",
        "for i, prediction in enumerate(predictions):\n",
        "    marker = 'X' if prediction < 0.5 else 'o'\n",
        "    c = 'b' if prediction < 0.5 else 'k'\n",
        "    plt.scatter(X_test[i,0], X_test[i,1], c=c, marker=marker)\n",
        "plt.show()"
      ],
      "metadata": {
        "colab": {
          "base_uri": "https://localhost:8080/",
          "height": 430
        },
        "id": "wrceefbzgvX6",
        "outputId": "77f76f41-5567-4069-ce7c-e5c2f5be71da"
      },
      "execution_count": 21,
      "outputs": [
        {
          "output_type": "display_data",
          "data": {
            "text/plain": [
              "<Figure size 640x480 with 1 Axes>"
            ],
            "image/png": "[encoded data removed]"
          },
          "metadata": {}
        }
      ]
    }
  ]
}