{
  "nbformat": 4,
  "nbformat_minor": 0,
  "metadata": {
    "colab": {
      "provenance": [],
      "gpuType": "T4"
    },
    "kernelspec": {
      "name": "python3",
      "display_name": "Python 3"
    },
    "language_info": {
      "name": "python"
    },
    "accelerator": "GPU"
  },
  "cells": [
    {
      "cell_type": "code",
      "source": [
        "!pip uninstall tiktoken -y\n",
        "!pip install --upgrade tiktoken"
      ],
      "metadata": {
        "colab": {
          "base_uri": "https://localhost:8080/"
        },
        "id": "gyhHU7m49z7L",
        "outputId": "0b4afd35-8f25-4f3c-89e5-03bb19c86853"
      },
      "execution_count": 1,
      "outputs": [
        {
          "output_type": "stream",
          "name": "stdout",
          "text": [
            "\u001b[33mWARNING: Skipping tiktoken as it is not installed.\u001b[0m\u001b[33m\n",
            "\u001b[0mCollecting tiktoken\n",
            "  Downloading tiktoken-0.9.0-cp311-cp311-manylinux_2_17_x86_64.manylinux2014_x86_64.whl.metadata (6.7 kB)\n",
            "Requirement already satisfied: regex>=2022.1.18 in /usr/local/lib/python3.11/dist-packages (from tiktoken) (2024.11.6)\n",
            "Requirement already satisfied: requests>=2.26.0 in /usr/local/lib/python3.11/dist-packages (from tiktoken) (2.32.3)\n",
            "Requirement already satisfied: charset-normalizer<4,>=2 in /usr/local/lib/python3.11/dist-packages (from requests>=2.26.0->tiktoken) (3.4.1)\n",
            "Requirement already satisfied: idna<4,>=2.5 in /usr/local/lib/python3.11/dist-packages (from requests>=2.26.0->tiktoken) (3.10)\n",
            "Requirement already satisfied: urllib3<3,>=1.21.1 in /usr/local/lib/python3.11/dist-packages (from requests>=2.26.0->tiktoken) (2.3.0)\n",
            "Requirement already satisfied: certifi>=2017.4.17 in /usr/local/lib/python3.11/dist-packages (from requests>=2.26.0->tiktoken) (2025.1.31)\n",
            "Downloading tiktoken-0.9.0-cp311-cp311-manylinux_2_17_x86_64.manylinux2014_x86_64.whl (1.2 MB)\n",
            "\u001b[2K   \u001b[90m━━━━━━━━━━━━━━━━━━━━━━━━━━━━━━━━━━━━━━━━\u001b[0m \u001b[32m1.2/1.2 MB\u001b[0m \u001b[31m38.4 MB/s\u001b[0m eta \u001b[36m0:00:00\u001b[0m\n",
            "\u001b[?25hInstalling collected packages: tiktoken\n",
            "Successfully installed tiktoken-0.9.0\n"
          ]
        }
      ]
    },
    {
      "cell_type": "code",
      "execution_count": 2,
      "metadata": {
        "colab": {
          "base_uri": "https://localhost:8080/"
        },
        "id": "u1iXj4iM9cjW",
        "outputId": "9ca2f886-4fdc-4f7d-a712-659ed3e9e079"
      },
      "outputs": [
        {
          "output_type": "stream",
          "name": "stdout",
          "text": [
            "numpy version: 2.0.2\n",
            "matplotlib version: 3.10.0\n",
            "tiktoken version: 0.9.0\n",
            "torch version: 2.6.0+cu124\n",
            "tqdm version: 4.67.1\n",
            "tensorflow version: 2.18.0\n"
          ]
        }
      ],
      "source": [
        "from importlib.metadata import version\n",
        "\n",
        "pkgs = [\n",
        "    \"numpy\",       # PyTorch & TensorFlow dependency\n",
        "    \"matplotlib\",  # Plotting library\n",
        "    \"tiktoken\",    # Tokenizer\n",
        "    \"torch\",       # Deep learning library\n",
        "    \"tqdm\",        # Progress bar\n",
        "    \"tensorflow\",  # For OpenAI's pretrained weights\n",
        "]\n",
        "for p in pkgs:\n",
        "    print(f\"{p} version: {version(p)}\")"
      ]
    },
    {
      "cell_type": "markdown",
      "source": [
        "### 1.Preparing a dataset for supervised instruction finetuning"
      ],
      "metadata": {
        "id": "8qcYg1Pl961n"
      }
    },
    {
      "cell_type": "code",
      "source": [
        "import json\n",
        "import os\n",
        "import urllib\n",
        "\n",
        "def download_and_load_file(file_path, url):\n",
        "    if not os.path.exists(file_path):\n",
        "        with urllib.request.urlopen(url) as response:\n",
        "            text_data = response.read().decode(\"utf-8\")\n",
        "        with open(file_path, \"w\", encoding=\"utf-8\") as file:\n",
        "            file.write(text_data)\n",
        "\n",
        "    with open(file_path, \"r\", encoding=\"utf-8\") as file:\n",
        "        data = json.load(file)\n",
        "\n",
        "    return data\n",
        "\n",
        "file_path = \"instruction-data.json\"\n",
        "url = (\n",
        "    \"https://raw.githubusercontent.com/rasbt/LLMs-from-scratch\"\n",
        "    \"/main/ch07/01_main-chapter-code/instruction-data.json\"\n",
        ")\n",
        "\n",
        "data = download_and_load_file(file_path, url)\n",
        "print(\"Number of entries:\", len(data))"
      ],
      "metadata": {
        "colab": {
          "base_uri": "https://localhost:8080/"
        },
        "id": "cMFIS1sc94TP",
        "outputId": "905f0a14-7355-4864-ba24-2a9d69390ba5"
      },
      "execution_count": 3,
      "outputs": [
        {
          "output_type": "stream",
          "name": "stdout",
          "text": [
            "Number of entries: 1100\n"
          ]
        }
      ]
    },
    {
      "cell_type": "code",
      "source": [
        "print(\"Example entry:\\n\", data[50])"
      ],
      "metadata": {
        "colab": {
          "base_uri": "https://localhost:8080/"
        },
        "id": "P0PByd5d_DDh",
        "outputId": "b5c1da17-ccfc-4fd9-fb0a-87b96f25a356"
      },
      "execution_count": 4,
      "outputs": [
        {
          "output_type": "stream",
          "name": "stdout",
          "text": [
            "Example entry:\n",
            " {'instruction': 'Identify the correct spelling of the following word.', 'input': 'Ocassion', 'output': \"The correct spelling is 'Occasion.'\"}\n"
          ]
        }
      ]
    },
    {
      "cell_type": "code",
      "source": [
        "print(\"Another example entry:\\n\", data[999])"
      ],
      "metadata": {
        "colab": {
          "base_uri": "https://localhost:8080/"
        },
        "id": "Xv8wNJJL_M7Z",
        "outputId": "9aaadb42-cd9b-409a-c2d6-311f88bcf0a8"
      },
      "execution_count": 5,
      "outputs": [
        {
          "output_type": "stream",
          "name": "stdout",
          "text": [
            "Another example entry:\n",
            " {'instruction': \"What is an antonym of 'complicated'?\", 'input': '', 'output': \"An antonym of 'complicated' is 'simple'.\"}\n"
          ]
        }
      ]
    },
    {
      "cell_type": "markdown",
      "source": [
        "- we use Alpaca-style prompt formatting, which was the original prompt template for instruction finetuning.\n",
        "- Below, we format the input that we will pass as input to the LLM"
      ],
      "metadata": {
        "id": "1kLH5_oJA0S7"
      }
    },
    {
      "cell_type": "code",
      "source": [
        "def format_input(entry):\n",
        "    instruction_text = (\n",
        "        f\"Below is an instruction that describes a task. \"\n",
        "        f\"Write a response that appropriately completes the request.\"\n",
        "        f\"\\n\\n### Instruction:\\n{entry['instruction']}\"\n",
        "    )\n",
        "\n",
        "    input_text = f\"\\n\\n### Input:\\n{entry['input']}\" if entry[\"input\"] else \"\"\n",
        "\n",
        "    return instruction_text + input_text"
      ],
      "metadata": {
        "id": "gbsEs4OqA7Tb"
      },
      "execution_count": 6,
      "outputs": []
    },
    {
      "cell_type": "code",
      "source": [
        "# A formatted response with input field\n",
        "\n",
        "model_input = format_input(data[50])\n",
        "desired_response = f\"\\n\\n### Response:\\n{data[50]['output']}\"\n",
        "\n",
        "print(model_input + desired_response)"
      ],
      "metadata": {
        "colab": {
          "base_uri": "https://localhost:8080/"
        },
        "id": "IdDA2PR6BQWB",
        "outputId": "928d8156-fac3-4890-ffbc-d9e43a2b36e2"
      },
      "execution_count": 7,
      "outputs": [
        {
          "output_type": "stream",
          "name": "stdout",
          "text": [
            "Below is an instruction that describes a task. Write a response that appropriately completes the request.\n",
            "\n",
            "### Instruction:\n",
            "Identify the correct spelling of the following word.\n",
            "\n",
            "### Input:\n",
            "Ocassion\n",
            "\n",
            "### Response:\n",
            "The correct spelling is 'Occasion.'\n"
          ]
        }
      ]
    },
    {
      "cell_type": "code",
      "source": [
        "# a formatted response without an input field\n",
        "\n",
        "model_input = format_input(data[999])\n",
        "desired_response = f\"\\n\\n### Response:\\n{data[999]['output']}\"\n",
        "\n",
        "print(model_input + desired_response)"
      ],
      "metadata": {
        "colab": {
          "base_uri": "https://localhost:8080/"
        },
        "id": "QlgTq1-eyjTt",
        "outputId": "fe957b2c-e80c-4f88-a052-e5154e400d62"
      },
      "execution_count": 8,
      "outputs": [
        {
          "output_type": "stream",
          "name": "stdout",
          "text": [
            "Below is an instruction that describes a task. Write a response that appropriately completes the request.\n",
            "\n",
            "### Instruction:\n",
            "What is an antonym of 'complicated'?\n",
            "\n",
            "### Response:\n",
            "An antonym of 'complicated' is 'simple'.\n"
          ]
        }
      ]
    },
    {
      "cell_type": "markdown",
      "source": [
        "- Before we prepare the PyTorch data loaders in the next section, we divide the dataset into a training, validation, and test set"
      ],
      "metadata": {
        "id": "yLLgGUs9yz5w"
      }
    },
    {
      "cell_type": "code",
      "source": [
        "train_portion = int(len(data)* 0.85) # 85% for training\n",
        "test_portion = int(len(data) * 0.1)    # 10% for testing\n",
        "val_portion = len(data) - train_portion - test_portion  # Remaining 5% for validation\n",
        "\n",
        "train_data = data[:train_portion]\n",
        "test_data = data[train_portion:train_portion + test_portion]\n",
        "val_data = data[train_portion + test_portion:]"
      ],
      "metadata": {
        "id": "ZMN3G_Asy9C6"
      },
      "execution_count": 9,
      "outputs": []
    },
    {
      "cell_type": "code",
      "source": [
        "print(\"Training set length:\", len(train_data))\n",
        "print(\"Validation set length:\", len(val_data))\n",
        "print(\"Test set length:\", len(test_data))"
      ],
      "metadata": {
        "colab": {
          "base_uri": "https://localhost:8080/"
        },
        "id": "VnITWzkyzMfz",
        "outputId": "411426f3-f80f-41b0-8d1c-92f1c95cd72d"
      },
      "execution_count": 10,
      "outputs": [
        {
          "output_type": "stream",
          "name": "stdout",
          "text": [
            "Training set length: 935\n",
            "Validation set length: 55\n",
            "Test set length: 110\n"
          ]
        }
      ]
    },
    {
      "cell_type": "markdown",
      "source": [
        "### 2.Organizing data into training batches\n",
        "\n",
        "- How to efﬁciently pad the data samples to equal lengths so we can assemble multiple instruction examples in a batch.\n",
        "- Create the PyTorch data loaders use for fine-tuning the LLM\n"
      ],
      "metadata": {
        "id": "oIsdJxkGzRT0"
      }
    },
    {
      "cell_type": "markdown",
      "source": [
        "**Step 1:**\n",
        "\n",
        "we implement an **InstructionDataset** class that pre-tokenizes all inputs in the dataset,"
      ],
      "metadata": {
        "id": "P0NPfq_W2PbB"
      }
    },
    {
      "cell_type": "code",
      "source": [
        "import torch\n",
        "from torch.utils.data import Dataset\n",
        "\n",
        "\n",
        "class InstructionDataset(Dataset):\n",
        "    def __init__(self, data, tokenizer):\n",
        "        self.data = data\n",
        "\n",
        "        # Pre-tokenize texts\n",
        "        self.encoded_texts = []\n",
        "        for entry in data:\n",
        "            instruction_plus_input = format_input(entry)\n",
        "            response_text = f\"\\n\\n### Response:\\n{entry['output']}\"\n",
        "            full_text = instruction_plus_input + response_text\n",
        "            self.encoded_texts.append(\n",
        "                tokenizer.encode(full_text)\n",
        "            )\n",
        "\n",
        "    def __getitem__(self, index):\n",
        "        return self.encoded_texts[index]\n",
        "\n",
        "    def __len__(self):\n",
        "        return len(self.data)"
      ],
      "metadata": {
        "id": "otxHQkWr2L9C"
      },
      "execution_count": 28,
      "outputs": []
    },
    {
      "cell_type": "markdown",
      "source": [
        "- Use the **<|endoftext|>** token as a padding token"
      ],
      "metadata": {
        "id": "eV2x2XDv3lSR"
      }
    },
    {
      "cell_type": "code",
      "source": [
        "import tiktoken\n",
        "\n",
        "tokenizer = tiktoken.get_encoding(\"gpt2\")\n",
        "\n",
        "print(tokenizer.encode(\"<|endoftext|>\", allowed_special={\"<|endoftext|>\"}))"
      ],
      "metadata": {
        "colab": {
          "base_uri": "https://localhost:8080/"
        },
        "id": "iLCA0hyQ3nsZ",
        "outputId": "1cb28adb-afd8-4bbd-bd11-ac15ee726870"
      },
      "execution_count": 29,
      "outputs": [
        {
          "output_type": "stream",
          "name": "stdout",
          "text": [
            "[50256]\n"
          ]
        }
      ]
    },
    {
      "cell_type": "markdown",
      "source": [
        "**Custom collate**\n",
        "\n",
        "- Here, we take a more sophisticated approach and develop a custom \"collate\" function that we can pass to the data loader\n",
        "- This custom collate function pads the training examples in each batch to have the same length (but different batches can have different lengths)\n",
        "\n",
        "\n",
        "![image.png](data:image/png;base64,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)"
      ],
      "metadata": {
        "id": "hRs_CJCc3zL8"
      }
    },
    {
      "cell_type": "code",
      "source": [
        "def custom_collate_draft_1(batch, pad_token_id=50256, device=\"cpu\"):\n",
        "    # Find the longest sequence in the batch\n",
        "    # and increase the max length by +1, which will add one extra padding token below\n",
        "    batch_max_length = max(len(item)+1 for item in batch)\n",
        "\n",
        "    # pad and prepare inputs\n",
        "    inputs_lst = []\n",
        "\n",
        "    for item in batch:\n",
        "        new_item = item.copy()\n",
        "\n",
        "        # Add an <|endoftext|> token\n",
        "        new_item += [pad_token_id]\n",
        "\n",
        "        # Pad sequences to batch_max_length\n",
        "        padded = (\n",
        "            new_item + [pad_token_id] *(batch_max_length - len(new_item))\n",
        "        )\n",
        "\n",
        "        # Via padded[:-1], we remove the extra padded token\n",
        "        # that has been added via the +1 setting in batch_max_length\n",
        "        # (the extra padding token will be relevant in later codes)\n",
        "        inputs = torch.tensor(padded[:-1])\n",
        "        inputs_lst.append(inputs)\n",
        "\n",
        "    # Convert list of inputs to tensor and transfer to target device\n",
        "    inputs_tensor = torch.stack(inputs_lst).to(device)\n",
        "    return inputs_tensor"
      ],
      "metadata": {
        "id": "biQTYyb14D-s"
      },
      "execution_count": 30,
      "outputs": []
    },
    {
      "cell_type": "code",
      "source": [
        "inputs_1 = [0, 1, 2, 3, 4]\n",
        "inputs_2 = [5, 6]\n",
        "inputs_3 = [7, 8, 9]\n",
        "\n",
        "batch = (\n",
        "    inputs_1,\n",
        "    inputs_2,\n",
        "    inputs_3\n",
        ")\n",
        "\n",
        "print(custom_collate_draft_1(batch))"
      ],
      "metadata": {
        "colab": {
          "base_uri": "https://localhost:8080/"
        },
        "id": "Z0SKITiR5SJf",
        "outputId": "846ab5d1-4120-41d6-d151-fc3a3dd09fb6"
      },
      "execution_count": 31,
      "outputs": [
        {
          "output_type": "stream",
          "name": "stdout",
          "text": [
            "tensor([[    0,     1,     2,     3,     4],\n",
            "        [    5,     6, 50256, 50256, 50256],\n",
            "        [    7,     8,     9, 50256, 50256]])\n"
          ]
        }
      ]
    },
    {
      "cell_type": "markdown",
      "source": [
        "- Above, we only returned the inputs to the LLM; however, for LLM training, we also need the target values\n",
        "- Similar to pretraining an LLM, the targets are the inputs shifted by 1 position to the right, so the LLM learns to predict the next token"
      ],
      "metadata": {
        "id": "TC9Frmok5yWh"
      }
    },
    {
      "cell_type": "code",
      "source": [
        "def custom_collate_draft_2(\n",
        "    batch,\n",
        "    pad_token_id=50256,\n",
        "    device=\"cpu\"\n",
        "):\n",
        "    # Find the longest sequence in the batch\n",
        "    batch_max_length = max(len(item)+1 for item in batch)\n",
        "\n",
        "    # Pad and prepare inputs\n",
        "    inputs_lst, targets_lst = [], []\n",
        "\n",
        "    for item in batch:\n",
        "        new_item = item.copy()\n",
        "        # Add an <|endoftext|> token\n",
        "        new_item += [pad_token_id]\n",
        "        # Pad sequences to max_length\n",
        "        padded = (\n",
        "            new_item + [pad_token_id] *\n",
        "            (batch_max_length - len(new_item))\n",
        "        )\n",
        "        inputs = torch.tensor(padded[:-1])  # Truncate the last token for inputs\n",
        "        targets = torch.tensor(padded[1:])  # Shift +1 to the right for targets\n",
        "        inputs_lst.append(inputs)\n",
        "        targets_lst.append(targets)\n",
        "\n",
        "    # Convert list of inputs to tensor and transfer to target device\n",
        "    inputs_tensor = torch.stack(inputs_lst).to(device)\n",
        "    targets_tensor = torch.stack(targets_lst).to(device)\n",
        "    return inputs_tensor, targets_tensor"
      ],
      "metadata": {
        "id": "9Ffs3vb46D5I"
      },
      "execution_count": 32,
      "outputs": []
    },
    {
      "cell_type": "code",
      "source": [
        "inputs, targets = custom_collate_draft_2(batch)\n",
        "\n",
        "print(inputs)\n",
        "print(targets)"
      ],
      "metadata": {
        "colab": {
          "base_uri": "https://localhost:8080/"
        },
        "id": "DiW0hAt56Hfz",
        "outputId": "68b5f58b-81ab-4c51-a68f-fbdf83d376f2"
      },
      "execution_count": 33,
      "outputs": [
        {
          "output_type": "stream",
          "name": "stdout",
          "text": [
            "tensor([[    0,     1,     2,     3,     4],\n",
            "        [    5,     6, 50256, 50256, 50256],\n",
            "        [    7,     8,     9, 50256, 50256]])\n",
            "tensor([[    1,     2,     3,     4, 50256],\n",
            "        [    6, 50256, 50256, 50256, 50256],\n",
            "        [    8,     9, 50256, 50256, 50256]])\n"
          ]
        }
      ]
    },
    {
      "cell_type": "markdown",
      "source": [
        "- Next, we introduce an **ignore_index** value to replace all padding token IDs with a new value; the purpose of this **ignore_index** is that we can ignore padding values in the loss function.\n",
        "- Concretely, this means that we replace the token IDs corresponding to 50256 with -100 as illustrated below\n",
        "- In addition, we also introduce the **allowed_max_length** in case we want to limit the length of the samples; this will be useful if you plan to work with your own datasets that are longer than the 1024 token context size supported by the GPT-2 model\n",
        "\n",
        "![image.png](data:image/png;base64,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)"
      ],
      "metadata": {
        "id": "Vnvbpq2A6QXl"
      }
    },
    {
      "cell_type": "code",
      "source": [
        "\n",
        "def custom_collate_fn(\n",
        "    batch,\n",
        "    pad_token_id=50256,\n",
        "    ignore_index=-100,\n",
        "    allowed_max_length=None,\n",
        "    device=\"cpu\"\n",
        "):\n",
        "    # Find the longest sequence in the batch\n",
        "    batch_max_length = max(len(item)+1 for item in batch)\n",
        "\n",
        "    # Pad and prepare inputs and targets\n",
        "    inputs_lst, targets_lst = [], []\n",
        "\n",
        "    for item in batch:\n",
        "        new_item = item.copy()\n",
        "\n",
        "        # Add an <|endoftext|> token\n",
        "        new_item += [pad_token_id]\n",
        "        # Pad sequences to max_length\n",
        "        padded = (\n",
        "            new_item + [pad_token_id] *\n",
        "            (batch_max_length - len(new_item))\n",
        "        )\n",
        "\n",
        "        inputs = torch.tensor(padded[:-1])  # Truncate the last token for inputs\n",
        "        targets = torch.tensor(padded[1:])  # Shift +1 to the right for targets\n",
        "\n",
        "        # Replace all but the first padding tokens in targets by ignore_index\n",
        "        mask = targets == pad_token_id\n",
        "        # 在PyTorch中，torch.nonzero(mask).squeeze() 是一个常用的操作，用于 获取张量中所有非零元素的索引，并压缩多余的维度。\n",
        "        indices = torch.nonzero(mask).squeeze()\n",
        "        if indices.numel() > 1:     # 检查是否有多个有效目标\n",
        "            targets[indices[1:]] = ignore_index\n",
        "\n",
        "        # New: Optionally truncate to maximum sequence length\n",
        "        if allowed_max_length is not None:\n",
        "            inputs = inputs[:allowed_max_length]\n",
        "            targets = targets[:allowed_max_length]\n",
        "\n",
        "        inputs_lst.append(inputs)\n",
        "        targets_lst.append(targets)\n",
        "\n",
        "    # Convert list of inputs and targets to tensors and transfer to target device\n",
        "    inputs_tensor = torch.stack(inputs_lst).to(device)\n",
        "    targets_tensor = torch.stack(targets_lst).to(device)\n",
        "\n",
        "    return inputs_tensor, targets_tensor"
      ],
      "metadata": {
        "id": "VNSforLs61de"
      },
      "execution_count": 34,
      "outputs": []
    },
    {
      "cell_type": "code",
      "source": [
        "inputs, targets = custom_collate_fn(batch)\n",
        "\n",
        "print(inputs)\n",
        "print(targets)"
      ],
      "metadata": {
        "colab": {
          "base_uri": "https://localhost:8080/"
        },
        "id": "oMVkzPtw9GCK",
        "outputId": "9dc996e7-7b52-44e4-fd0c-0b4ee2b4cd09"
      },
      "execution_count": 35,
      "outputs": [
        {
          "output_type": "stream",
          "name": "stdout",
          "text": [
            "tensor([[    0,     1,     2,     3,     4],\n",
            "        [    5,     6, 50256, 50256, 50256],\n",
            "        [    7,     8,     9, 50256, 50256]])\n",
            "tensor([[    1,     2,     3,     4, 50256],\n",
            "        [    6, 50256,  -100,  -100,  -100],\n",
            "        [    8,     9, 50256,  -100,  -100]])\n"
          ]
        }
      ]
    },
    {
      "cell_type": "markdown",
      "source": [
        "Example:\n",
        "\n",
        "- For illustration purposes, let's assume we have a small classification task with 2 class labels, 0 and 1\n",
        "\n",
        "- If we have the following logits values (outputs of the last layer of the model), we calculate the following loss"
      ],
      "metadata": {
        "id": "xpSr22jC99Ec"
      }
    },
    {
      "cell_type": "code",
      "source": [
        "logits_1 = torch.tensor(\n",
        "    [[-1.0, 1.0],  # 1st training example\n",
        "     [-0.5, 1.5]]  # 2nd training example\n",
        ")\n",
        "targets_1 = torch.tensor([0, 1])\n",
        "\n",
        "\n",
        "loss_1 = torch.nn.functional.cross_entropy(logits_1, targets_1)\n",
        "print(loss_1)"
      ],
      "metadata": {
        "colab": {
          "base_uri": "https://localhost:8080/"
        },
        "id": "jw9gspmD96HR",
        "outputId": "46f09554-7a8c-485d-8857-c38a6cb74c7a"
      },
      "execution_count": 36,
      "outputs": [
        {
          "output_type": "stream",
          "name": "stdout",
          "text": [
            "tensor(1.1269)\n"
          ]
        }
      ]
    },
    {
      "cell_type": "markdown",
      "source": [
        "- Now, adding one more training example will, as expected, influence the loss"
      ],
      "metadata": {
        "id": "PQy74KcN-CeS"
      }
    },
    {
      "cell_type": "code",
      "source": [
        "logits_2 = torch.tensor(\n",
        "    [[-1.0, 1.0],\n",
        "     [-0.5, 1.5],\n",
        "     [-0.5, 1.5]]  # New 3rd training example\n",
        ")\n",
        "targets_2 = torch.tensor([0, 1, 1])\n",
        "\n",
        "loss_2 = torch.nn.functional.cross_entropy(logits_2, targets_2)\n",
        "print(loss_2)"
      ],
      "metadata": {
        "colab": {
          "base_uri": "https://localhost:8080/"
        },
        "id": "a8epXEWo-GQF",
        "outputId": "20b6f53e-ac5d-4b97-b2b5-0bb6367bbd62"
      },
      "execution_count": 37,
      "outputs": [
        {
          "output_type": "stream",
          "name": "stdout",
          "text": [
            "tensor(0.7936)\n"
          ]
        }
      ]
    },
    {
      "cell_type": "markdown",
      "source": [
        "- see what happens if we replace the class label of one of the examples with -100"
      ],
      "metadata": {
        "id": "c6Mijjor-O-9"
      }
    },
    {
      "cell_type": "code",
      "source": [
        "\n",
        "targets_3 = torch.tensor([0, 1, -100])\n",
        "\n",
        "loss_3 = torch.nn.functional.cross_entropy(logits_2, targets_3)\n",
        "print(loss_3)\n",
        "print(\"loss_1 == loss_3:\", loss_1 == loss_3)"
      ],
      "metadata": {
        "colab": {
          "base_uri": "https://localhost:8080/"
        },
        "id": "XjpMfq9a-Oex",
        "outputId": "84b8017d-245e-42dc-a0a8-ee4bf834ad65"
      },
      "execution_count": 38,
      "outputs": [
        {
          "output_type": "stream",
          "name": "stdout",
          "text": [
            "tensor(1.1269)\n",
            "loss_1 == loss_3: tensor(True)\n"
          ]
        }
      ]
    },
    {
      "cell_type": "markdown",
      "source": [
        "- As we can see, the resulting loss on these 3 training examples is the same as the loss we calculated from the 2 training examples, which means that the cross-entropy loss function ignored the training example with the -100 label\n",
        "- By default, PyTorch has the **cross_entropy**(..., ignore_index=-100) setting to ignore examples corresponding to the label -100\n",
        "- Using this **-100 ignore_index**, we can ignore the additional **end-of-text **(padding) tokens in the batches that we used to pad the training examples to equal length\n",
        "- However, we don't want to ignore the **first instance of the end-of-text** (padding) token (50256) because it can help signal to the LLM when the response is complete\n",
        "- In practice, it is also common to mask out the target token IDs that correspond to the instruction"
      ],
      "metadata": {
        "id": "ah00fNJr-Z2C"
      }
    },
    {
      "cell_type": "markdown",
      "source": [
        "### 3.Create data loaders for an instruction dataset\n",
        "\n",
        "Use the InstructionDataset class and custom_collate_fn function to instantiate the training, validation, and test data loaders\n",
        "\n",
        "- Another additional detail of the previous `custom_collate_fn` function is that we now directly move the data to the target device (e.g., GPU) instead of doing it in the main training loop, which improves efficiency because it can be carried out as a background process when we use the `custom_collate_fn` as part of the data loader\n",
        "- Using the partial function from Python's `functools` standard library, we create a new function with the `device` argument of the original function pre-filled"
      ],
      "metadata": {
        "id": "swusOR21_A71"
      }
    },
    {
      "cell_type": "code",
      "source": [
        "device = torch.device(\"cuda\" if torch.cuda.is_available() else \"cpu\")\n",
        "\n",
        "print(\"Device:\", device)"
      ],
      "metadata": {
        "colab": {
          "base_uri": "https://localhost:8080/"
        },
        "id": "pnk-_hhI_cCX",
        "outputId": "4477320d-ebbc-442d-e2e6-de3325681297"
      },
      "execution_count": 39,
      "outputs": [
        {
          "output_type": "stream",
          "name": "stdout",
          "text": [
            "Device: cuda\n"
          ]
        }
      ]
    },
    {
      "cell_type": "code",
      "source": [
        "from functools import partial\n",
        "\n",
        "customized_collate_fn = partial(\n",
        "    custom_collate_fn,\n",
        "    device=device,\n",
        "    allowed_max_length=1024\n",
        ")"
      ],
      "metadata": {
        "id": "3TvZej8s_qcp"
      },
      "execution_count": 40,
      "outputs": []
    },
    {
      "cell_type": "markdown",
      "source": [
        "- Next, we instantiate the data loaders"
      ],
      "metadata": {
        "id": "ULmCaRQb_umx"
      }
    },
    {
      "cell_type": "code",
      "source": [
        "from torch.utils.data import DataLoader\n",
        "\n",
        "num_workers = 0\n",
        "batch_size = 8\n",
        "\n",
        "torch.manual_seed(123)\n",
        "\n",
        "train_dataset = InstructionDataset(train_data, tokenizer)\n",
        "train_loader = DataLoader(\n",
        "    train_dataset,\n",
        "    batch_size=batch_size,\n",
        "    collate_fn=customized_collate_fn,\n",
        "    shuffle=True,\n",
        "    drop_last=True,\n",
        "    num_workers=num_workers\n",
        ")"
      ],
      "metadata": {
        "id": "DXRpCLkG_vio"
      },
      "execution_count": 41,
      "outputs": []
    },
    {
      "cell_type": "code",
      "source": [
        "val_dataset = InstructionDataset(val_data, tokenizer)\n",
        "val_loader = DataLoader(\n",
        "    val_dataset,\n",
        "    batch_size=batch_size,\n",
        "    collate_fn=customized_collate_fn,\n",
        "    shuffle=False,\n",
        "    drop_last=False,\n",
        "    num_workers=num_workers\n",
        ")\n",
        "\n",
        "test_dataset = InstructionDataset(test_data, tokenizer)\n",
        "test_loader = DataLoader(\n",
        "    test_dataset,\n",
        "    batch_size=batch_size,\n",
        "    collate_fn=customized_collate_fn,\n",
        "    shuffle=False,\n",
        "    drop_last=False,\n",
        "    num_workers=num_workers\n",
        ")"
      ],
      "metadata": {
        "id": "WVVgku7hACVp"
      },
      "execution_count": 42,
      "outputs": []
    },
    {
      "cell_type": "code",
      "source": [
        "print(\"Train loader:\")\n",
        "\n",
        "for inputs, targets in train_loader:\n",
        "    print(inputs.shape, targets.shape)"
      ],
      "metadata": {
        "colab": {
          "base_uri": "https://localhost:8080/"
        },
        "id": "xNyYMpwFAF4B",
        "outputId": "3139a094-a168-4bc7-d141-811858db3335"
      },
      "execution_count": 43,
      "outputs": [
        {
          "output_type": "stream",
          "name": "stdout",
          "text": [
            "Train loader:\n",
            "torch.Size([8, 61]) torch.Size([8, 61])\n",
            "torch.Size([8, 76]) torch.Size([8, 76])\n",
            "torch.Size([8, 73]) torch.Size([8, 73])\n",
            "torch.Size([8, 68]) torch.Size([8, 68])\n",
            "torch.Size([8, 65]) torch.Size([8, 65])\n",
            "torch.Size([8, 72]) torch.Size([8, 72])\n",
            "torch.Size([8, 80]) torch.Size([8, 80])\n",
            "torch.Size([8, 67]) torch.Size([8, 67])\n",
            "torch.Size([8, 62]) torch.Size([8, 62])\n",
            "torch.Size([8, 75]) torch.Size([8, 75])\n",
            "torch.Size([8, 62]) torch.Size([8, 62])\n",
            "torch.Size([8, 68]) torch.Size([8, 68])\n",
            "torch.Size([8, 67]) torch.Size([8, 67])\n",
            "torch.Size([8, 77]) torch.Size([8, 77])\n",
            "torch.Size([8, 69]) torch.Size([8, 69])\n",
            "torch.Size([8, 79]) torch.Size([8, 79])\n",
            "torch.Size([8, 71]) torch.Size([8, 71])\n",
            "torch.Size([8, 66]) torch.Size([8, 66])\n",
            "torch.Size([8, 83]) torch.Size([8, 83])\n",
            "torch.Size([8, 68]) torch.Size([8, 68])\n",
            "torch.Size([8, 80]) torch.Size([8, 80])\n",
            "torch.Size([8, 71]) torch.Size([8, 71])\n",
            "torch.Size([8, 69]) torch.Size([8, 69])\n",
            "torch.Size([8, 65]) torch.Size([8, 65])\n",
            "torch.Size([8, 68]) torch.Size([8, 68])\n",
            "torch.Size([8, 60]) torch.Size([8, 60])\n",
            "torch.Size([8, 59]) torch.Size([8, 59])\n",
            "torch.Size([8, 69]) torch.Size([8, 69])\n",
            "torch.Size([8, 63]) torch.Size([8, 63])\n",
            "torch.Size([8, 65]) torch.Size([8, 65])\n",
            "torch.Size([8, 76]) torch.Size([8, 76])\n",
            "torch.Size([8, 66]) torch.Size([8, 66])\n",
            "torch.Size([8, 71]) torch.Size([8, 71])\n",
            "torch.Size([8, 91]) torch.Size([8, 91])\n",
            "torch.Size([8, 65]) torch.Size([8, 65])\n",
            "torch.Size([8, 64]) torch.Size([8, 64])\n",
            "torch.Size([8, 67]) torch.Size([8, 67])\n",
            "torch.Size([8, 66]) torch.Size([8, 66])\n",
            "torch.Size([8, 64]) torch.Size([8, 64])\n",
            "torch.Size([8, 65]) torch.Size([8, 65])\n",
            "torch.Size([8, 75]) torch.Size([8, 75])\n",
            "torch.Size([8, 89]) torch.Size([8, 89])\n",
            "torch.Size([8, 59]) torch.Size([8, 59])\n",
            "torch.Size([8, 88]) torch.Size([8, 88])\n",
            "torch.Size([8, 83]) torch.Size([8, 83])\n",
            "torch.Size([8, 83]) torch.Size([8, 83])\n",
            "torch.Size([8, 70]) torch.Size([8, 70])\n",
            "torch.Size([8, 65]) torch.Size([8, 65])\n",
            "torch.Size([8, 74]) torch.Size([8, 74])\n",
            "torch.Size([8, 76]) torch.Size([8, 76])\n",
            "torch.Size([8, 67]) torch.Size([8, 67])\n",
            "torch.Size([8, 75]) torch.Size([8, 75])\n",
            "torch.Size([8, 83]) torch.Size([8, 83])\n",
            "torch.Size([8, 69]) torch.Size([8, 69])\n",
            "torch.Size([8, 67]) torch.Size([8, 67])\n",
            "torch.Size([8, 60]) torch.Size([8, 60])\n",
            "torch.Size([8, 60]) torch.Size([8, 60])\n",
            "torch.Size([8, 66]) torch.Size([8, 66])\n",
            "torch.Size([8, 80]) torch.Size([8, 80])\n",
            "torch.Size([8, 71]) torch.Size([8, 71])\n",
            "torch.Size([8, 61]) torch.Size([8, 61])\n",
            "torch.Size([8, 58]) torch.Size([8, 58])\n",
            "torch.Size([8, 71]) torch.Size([8, 71])\n",
            "torch.Size([8, 67]) torch.Size([8, 67])\n",
            "torch.Size([8, 68]) torch.Size([8, 68])\n",
            "torch.Size([8, 63]) torch.Size([8, 63])\n",
            "torch.Size([8, 87]) torch.Size([8, 87])\n",
            "torch.Size([8, 68]) torch.Size([8, 68])\n",
            "torch.Size([8, 64]) torch.Size([8, 64])\n",
            "torch.Size([8, 68]) torch.Size([8, 68])\n",
            "torch.Size([8, 71]) torch.Size([8, 71])\n",
            "torch.Size([8, 68]) torch.Size([8, 68])\n",
            "torch.Size([8, 71]) torch.Size([8, 71])\n",
            "torch.Size([8, 61]) torch.Size([8, 61])\n",
            "torch.Size([8, 65]) torch.Size([8, 65])\n",
            "torch.Size([8, 67]) torch.Size([8, 67])\n",
            "torch.Size([8, 65]) torch.Size([8, 65])\n",
            "torch.Size([8, 64]) torch.Size([8, 64])\n",
            "torch.Size([8, 60]) torch.Size([8, 60])\n",
            "torch.Size([8, 72]) torch.Size([8, 72])\n",
            "torch.Size([8, 64]) torch.Size([8, 64])\n",
            "torch.Size([8, 70]) torch.Size([8, 70])\n",
            "torch.Size([8, 57]) torch.Size([8, 57])\n",
            "torch.Size([8, 72]) torch.Size([8, 72])\n",
            "torch.Size([8, 64]) torch.Size([8, 64])\n",
            "torch.Size([8, 68]) torch.Size([8, 68])\n",
            "torch.Size([8, 62]) torch.Size([8, 62])\n",
            "torch.Size([8, 74]) torch.Size([8, 74])\n",
            "torch.Size([8, 80]) torch.Size([8, 80])\n",
            "torch.Size([8, 68]) torch.Size([8, 68])\n",
            "torch.Size([8, 70]) torch.Size([8, 70])\n",
            "torch.Size([8, 91]) torch.Size([8, 91])\n",
            "torch.Size([8, 61]) torch.Size([8, 61])\n",
            "torch.Size([8, 66]) torch.Size([8, 66])\n",
            "torch.Size([8, 80]) torch.Size([8, 80])\n",
            "torch.Size([8, 81]) torch.Size([8, 81])\n",
            "torch.Size([8, 74]) torch.Size([8, 74])\n",
            "torch.Size([8, 82]) torch.Size([8, 82])\n",
            "torch.Size([8, 63]) torch.Size([8, 63])\n",
            "torch.Size([8, 83]) torch.Size([8, 83])\n",
            "torch.Size([8, 68]) torch.Size([8, 68])\n",
            "torch.Size([8, 67]) torch.Size([8, 67])\n",
            "torch.Size([8, 77]) torch.Size([8, 77])\n",
            "torch.Size([8, 91]) torch.Size([8, 91])\n",
            "torch.Size([8, 64]) torch.Size([8, 64])\n",
            "torch.Size([8, 61]) torch.Size([8, 61])\n",
            "torch.Size([8, 75]) torch.Size([8, 75])\n",
            "torch.Size([8, 64]) torch.Size([8, 64])\n",
            "torch.Size([8, 66]) torch.Size([8, 66])\n",
            "torch.Size([8, 78]) torch.Size([8, 78])\n",
            "torch.Size([8, 66]) torch.Size([8, 66])\n",
            "torch.Size([8, 64]) torch.Size([8, 64])\n",
            "torch.Size([8, 83]) torch.Size([8, 83])\n",
            "torch.Size([8, 66]) torch.Size([8, 66])\n",
            "torch.Size([8, 74]) torch.Size([8, 74])\n",
            "torch.Size([8, 69]) torch.Size([8, 69])\n"
          ]
        }
      ]
    },
    {
      "cell_type": "markdown",
      "source": [
        "- As we can see based on the output above, all batches have a batch size of 8 but a different length, as expected\n",
        "- Let's also double-check that the inputs contain the **<|endoftext|>** padding tokens corresponding to token ID 50256 by printing the contents of the first training example in the inputs batch"
      ],
      "metadata": {
        "id": "J_AwY2YfAV05"
      }
    },
    {
      "cell_type": "code",
      "source": [
        "print(inputs[0])"
      ],
      "metadata": {
        "id": "pEQ4fGntAgr9",
        "colab": {
          "base_uri": "https://localhost:8080/"
        },
        "outputId": "d9116982-43db-447b-d198-fd5f38517b1f"
      },
      "execution_count": 44,
      "outputs": [
        {
          "output_type": "stream",
          "name": "stdout",
          "text": [
            "tensor([21106,   318,   281, 12064,   326,  8477,   257,  4876,    13, 19430,\n",
            "          257,  2882,   326, 20431, 32543,   262,  2581,    13,   198,   198,\n",
            "        21017, 46486,    25,   198, 30003,  6525,   262,  6827,  1262,   257,\n",
            "          985,   576,    13,   198,   198, 21017, 23412,    25,   198,   464,\n",
            "         5156,   318,   845, 13779,    13,   198,   198, 21017, 18261,    25,\n",
            "          198,   464,  5156,   318,   355, 13779,   355,   257,  4936,    13,\n",
            "        50256, 50256, 50256, 50256, 50256, 50256, 50256, 50256, 50256],\n",
            "       device='cuda:0')\n"
          ]
        }
      ]
    },
    {
      "cell_type": "code",
      "source": [
        "print(targets[0])"
      ],
      "metadata": {
        "id": "rNn2LUPAAitj",
        "colab": {
          "base_uri": "https://localhost:8080/"
        },
        "outputId": "e7314921-2829-4575-9f86-b52072696eb0"
      },
      "execution_count": 45,
      "outputs": [
        {
          "output_type": "stream",
          "name": "stdout",
          "text": [
            "tensor([  318,   281, 12064,   326,  8477,   257,  4876,    13, 19430,   257,\n",
            "         2882,   326, 20431, 32543,   262,  2581,    13,   198,   198, 21017,\n",
            "        46486,    25,   198, 30003,  6525,   262,  6827,  1262,   257,   985,\n",
            "          576,    13,   198,   198, 21017, 23412,    25,   198,   464,  5156,\n",
            "          318,   845, 13779,    13,   198,   198, 21017, 18261,    25,   198,\n",
            "          464,  5156,   318,   355, 13779,   355,   257,  4936,    13, 50256,\n",
            "         -100,  -100,  -100,  -100,  -100,  -100,  -100,  -100,  -100],\n",
            "       device='cuda:0')\n"
          ]
        }
      ]
    },
    {
      "cell_type": "markdown",
      "source": [
        "### 4.Loading a pretrained LLM\n",
        "\n",
        "Instead of loading the smallest 124 million parameter model, we load the medium version with 355 million parameters since the 124 million model is too small for achieving qualitatively reasonable results via instruction finetuning"
      ],
      "metadata": {
        "id": "x2pMsCABEdv5"
      }
    },
    {
      "cell_type": "code",
      "source": [
        "# !pip install llms-from-scratch\n",
        "\n",
        "from llms_from_scratch.ch04 import GPTModel\n",
        "from llms_from_scratch.ch05 import download_and_load_gpt2, load_weights_into_gpt\n",
        "\n",
        "BASE_CONFIG = {\n",
        "    \"vocab_size\": 50257,     # Vocabulary size\n",
        "    \"context_length\": 1024,  # Context length\n",
        "    \"drop_rate\": 0.0,        # Dropout rate\n",
        "    \"qkv_bias\": True         # Query-key-value bias\n",
        "}\n",
        "\n",
        "model_configs = {\n",
        "    \"gpt2-small (124M)\": {\"emb_dim\": 768, \"n_layers\": 12, \"n_heads\": 12},\n",
        "    \"gpt2-medium (355M)\": {\"emb_dim\": 1024, \"n_layers\": 24, \"n_heads\": 16},\n",
        "    \"gpt2-large (774M)\": {\"emb_dim\": 1280, \"n_layers\": 36, \"n_heads\": 20},\n",
        "    \"gpt2-xl (1558M)\": {\"emb_dim\": 1600, \"n_layers\": 48, \"n_heads\": 25},\n",
        "}\n",
        "\n",
        "CHOOSE_MODEL = \"gpt2-medium (355M)\"\n",
        "\n",
        "BASE_CONFIG.update(model_configs[CHOOSE_MODEL])\n",
        "\n",
        "model_size = CHOOSE_MODEL.split(\" \")[-1].lstrip(\"(\").rstrip(\")\")\n",
        "settings, params = download_and_load_gpt2(\n",
        "    model_size=model_size,\n",
        "    models_dir=\"gpt2\"\n",
        ")\n",
        "\n",
        "model = GPTModel(BASE_CONFIG)\n",
        "load_weights_into_gpt(model, params)\n",
        "model.eval();"
      ],
      "metadata": {
        "colab": {
          "base_uri": "https://localhost:8080/"
        },
        "id": "lON5nUZCEmz8",
        "outputId": "6fdb5515-cbcb-4a11-ea11-239009971747"
      },
      "execution_count": 49,
      "outputs": [
        {
          "output_type": "stream",
          "name": "stderr",
          "text": [
            "checkpoint: 100%|██████████| 77.0/77.0 [00:00<00:00, 128kiB/s]\n",
            "encoder.json: 100%|██████████| 1.04M/1.04M [00:01<00:00, 642kiB/s]\n",
            "hparams.json: 100%|██████████| 91.0/91.0 [00:00<00:00, 131kiB/s]\n",
            "model.ckpt.data-00000-of-00001: 100%|██████████| 1.42G/1.42G [08:06<00:00, 2.92MiB/s]\n",
            "model.ckpt.index: 100%|██████████| 10.4k/10.4k [00:00<00:00, 11.8MiB/s]\n",
            "model.ckpt.meta: 100%|██████████| 927k/927k [00:01<00:00, 509kiB/s]\n",
            "vocab.bpe: 100%|██████████| 456k/456k [00:01<00:00, 455kiB/s]\n"
          ]
        }
      ]
    },
    {
      "cell_type": "markdown",
      "source": [
        "- Before we start finetuning the model in the next section, let's see how it performs on one of the validation tasks"
      ],
      "metadata": {
        "id": "jGG3FG8vGgV_"
      }
    },
    {
      "cell_type": "code",
      "source": [
        "torch.manual_seed(123)\n",
        "\n",
        "input_text = format_input(val_data[0])\n",
        "print(input_text)"
      ],
      "metadata": {
        "colab": {
          "base_uri": "https://localhost:8080/"
        },
        "id": "-TTLIIkeGhPy",
        "outputId": "5e5039a2-15bc-48e8-9810-99182863654e"
      },
      "execution_count": 50,
      "outputs": [
        {
          "output_type": "stream",
          "name": "stdout",
          "text": [
            "Below is an instruction that describes a task. Write a response that appropriately completes the request.\n",
            "\n",
            "### Instruction:\n",
            "Convert the active sentence to passive: 'The chef cooks the meal every day.'\n"
          ]
        }
      ]
    },
    {
      "cell_type": "code",
      "source": [
        "from llms_from_scratch.ch05 import (\n",
        "   generate,\n",
        "   text_to_token_ids,\n",
        "   token_ids_to_text\n",
        ")\n",
        "\n",
        "token_ids = generate(\n",
        "    model=model,\n",
        "    idx=text_to_token_ids(input_text, tokenizer),\n",
        "    max_new_tokens=35,\n",
        "    context_size=BASE_CONFIG[\"context_length\"],\n",
        "    eos_id=50256,\n",
        ")\n",
        "generated_text = token_ids_to_text(token_ids, tokenizer)"
      ],
      "metadata": {
        "id": "cUv7kfSqG1Bk"
      },
      "execution_count": 51,
      "outputs": []
    },
    {
      "cell_type": "markdown",
      "source": [
        "- To isolate the response, we can subtract the length of the instruction from the start of the generated_text"
      ],
      "metadata": {
        "id": "xiIHMQSrHz2w"
      }
    },
    {
      "cell_type": "code",
      "source": [
        "response_text = (\n",
        "    generated_text[len(input_text):]\n",
        "    .replace(\"### Response:\", \"\")\n",
        "    .strip()\n",
        ")\n",
        "print(response_text)"
      ],
      "metadata": {
        "colab": {
          "base_uri": "https://localhost:8080/"
        },
        "id": "sLHVpUakH5fB",
        "outputId": "a10fcc93-90ba-4d61-eded-10c464e75712"
      },
      "execution_count": 52,
      "outputs": [
        {
          "output_type": "stream",
          "name": "stdout",
          "text": [
            "The chef cooks the meal every day.\n",
            "\n",
            "### Instruction:\n",
            "\n",
            "Convert the active sentence to passive: 'The chef cooks the\n"
          ]
        }
      ]
    },
    {
      "cell_type": "markdown",
      "source": [
        "- As we can see, the model is not capable of following the instructions, yet; it creates a \"Response\" section but it simply repeats the original input sentence as well as the instruction"
      ],
      "metadata": {
        "id": "XEPcHWStIGRW"
      }
    },
    {
      "cell_type": "markdown",
      "source": [
        "### 5.Finetuning the LLM on instruction data\n"
      ],
      "metadata": {
        "id": "7dMbaNG0Iuj2"
      }
    },
    {
      "cell_type": "code",
      "source": [
        "from llms_from_scratch.ch05 import (\n",
        "   calc_loss_loader,\n",
        "   train_model_simple,\n",
        ")"
      ],
      "metadata": {
        "id": "eiTRXt40Z2j1"
      },
      "execution_count": 53,
      "outputs": []
    },
    {
      "cell_type": "markdown",
      "source": [
        "- Let's calculate the initial training and validation set loss before we start training"
      ],
      "metadata": {
        "id": "qMtLWVDtZ6kQ"
      }
    },
    {
      "cell_type": "code",
      "source": [
        "model.to(device)\n",
        "\n",
        "torch.manual_seed(123)\n",
        "\n",
        "with torch.no_grad():\n",
        "    train_loss = calc_loss_loader(train_loader, model, device, num_batches=5)\n",
        "    val_loss = calc_loss_loader(val_loader, model, device, num_batches=5)\n",
        "\n",
        "print(\"Training loss:\", train_loss)\n",
        "print(\"Validation loss:\", val_loss)"
      ],
      "metadata": {
        "colab": {
          "base_uri": "https://localhost:8080/"
        },
        "id": "vrkb2Et8Z7g1",
        "outputId": "bf358d9b-f1f5-4e9d-e9f1-d6d6d8087ca2"
      },
      "execution_count": 54,
      "outputs": [
        {
          "output_type": "stream",
          "name": "stdout",
          "text": [
            "Training loss: 3.825909471511841\n",
            "Validation loss: 3.761934232711792\n"
          ]
        }
      ]
    },
    {
      "cell_type": "code",
      "source": [
        "import time\n",
        "\n",
        "start_time = time.time()\n",
        "\n",
        "torch.manual_seed(123)\n",
        "\n",
        "optimizer = torch.optim.AdamW(model.parameters(), lr=0.00005, weight_decay=0.1)\n",
        "\n",
        "num_epochs = 2\n",
        "\n",
        "train_losses, val_losses, tokens_seen = train_model_simple(\n",
        "    model, train_loader, val_loader, optimizer, device,\n",
        "    num_epochs=num_epochs, eval_freq=5, eval_iter=5,\n",
        "    start_context=format_input(val_data[0]), tokenizer=tokenizer\n",
        ")\n",
        "\n",
        "end_time = time.time()\n",
        "execution_time_minutes = (end_time - start_time) / 60\n",
        "\n",
        "print(f\"Training completed in {execution_time_minutes:.2f} minutes.\")"
      ],
      "metadata": {
        "colab": {
          "base_uri": "https://localhost:8080/"
        },
        "id": "qx6N273UaI4c",
        "outputId": "d6665bac-42ac-43ab-9cad-5a081db4fbb3"
      },
      "execution_count": 55,
      "outputs": [
        {
          "output_type": "stream",
          "name": "stdout",
          "text": [
            "Ep 1 (Step 000000): Train loss 2.637, Val loss 2.626\n",
            "Ep 1 (Step 000005): Train loss 1.174, Val loss 1.103\n",
            "Ep 1 (Step 000010): Train loss 0.872, Val loss 0.944\n",
            "Ep 1 (Step 000015): Train loss 0.857, Val loss 0.906\n",
            "Ep 1 (Step 000020): Train loss 0.776, Val loss 0.881\n",
            "Ep 1 (Step 000025): Train loss 0.754, Val loss 0.859\n",
            "Ep 1 (Step 000030): Train loss 0.799, Val loss 0.836\n",
            "Ep 1 (Step 000035): Train loss 0.714, Val loss 0.808\n",
            "Ep 1 (Step 000040): Train loss 0.672, Val loss 0.806\n",
            "Ep 1 (Step 000045): Train loss 0.633, Val loss 0.789\n",
            "Ep 1 (Step 000050): Train loss 0.663, Val loss 0.783\n",
            "Ep 1 (Step 000055): Train loss 0.760, Val loss 0.763\n",
            "Ep 1 (Step 000060): Train loss 0.719, Val loss 0.743\n",
            "Ep 1 (Step 000065): Train loss 0.653, Val loss 0.735\n",
            "Ep 1 (Step 000070): Train loss 0.533, Val loss 0.729\n",
            "Ep 1 (Step 000075): Train loss 0.568, Val loss 0.729\n",
            "Ep 1 (Step 000080): Train loss 0.604, Val loss 0.725\n",
            "Ep 1 (Step 000085): Train loss 0.509, Val loss 0.710\n",
            "Ep 1 (Step 000090): Train loss 0.563, Val loss 0.691\n",
            "Ep 1 (Step 000095): Train loss 0.502, Val loss 0.681\n",
            "Ep 1 (Step 000100): Train loss 0.504, Val loss 0.677\n",
            "Ep 1 (Step 000105): Train loss 0.565, Val loss 0.670\n",
            "Ep 1 (Step 000110): Train loss 0.554, Val loss 0.666\n",
            "Ep 1 (Step 000115): Train loss 0.509, Val loss 0.663\n",
            "Below is an instruction that describes a task. Write a response that appropriately completes the request.  ### Instruction: Convert the active sentence to passive: 'The chef cooks the meal every day.'  ### Response: The meal is prepared every day by the chef.<|endoftext|>The following is an instruction that describes a task. Write a response that appropriately completes the request.  ### Instruction: Convert the active sentence to passive:\n",
            "Ep 2 (Step 000120): Train loss 0.435, Val loss 0.671\n",
            "Ep 2 (Step 000125): Train loss 0.451, Val loss 0.686\n",
            "Ep 2 (Step 000130): Train loss 0.447, Val loss 0.682\n",
            "Ep 2 (Step 000135): Train loss 0.405, Val loss 0.681\n",
            "Ep 2 (Step 000140): Train loss 0.410, Val loss 0.681\n",
            "Ep 2 (Step 000145): Train loss 0.369, Val loss 0.681\n",
            "Ep 2 (Step 000150): Train loss 0.382, Val loss 0.675\n",
            "Ep 2 (Step 000155): Train loss 0.414, Val loss 0.675\n",
            "Ep 2 (Step 000160): Train loss 0.412, Val loss 0.684\n",
            "Ep 2 (Step 000165): Train loss 0.379, Val loss 0.686\n",
            "Ep 2 (Step 000170): Train loss 0.322, Val loss 0.680\n",
            "Ep 2 (Step 000175): Train loss 0.337, Val loss 0.668\n",
            "Ep 2 (Step 000180): Train loss 0.392, Val loss 0.656\n",
            "Ep 2 (Step 000185): Train loss 0.414, Val loss 0.657\n",
            "Ep 2 (Step 000190): Train loss 0.340, Val loss 0.648\n",
            "Ep 2 (Step 000195): Train loss 0.328, Val loss 0.634\n",
            "Ep 2 (Step 000200): Train loss 0.309, Val loss 0.634\n",
            "Ep 2 (Step 000205): Train loss 0.353, Val loss 0.631\n",
            "Ep 2 (Step 000210): Train loss 0.362, Val loss 0.631\n",
            "Ep 2 (Step 000215): Train loss 0.393, Val loss 0.634\n",
            "Ep 2 (Step 000220): Train loss 0.297, Val loss 0.644\n",
            "Ep 2 (Step 000225): Train loss 0.341, Val loss 0.658\n",
            "Ep 2 (Step 000230): Train loss 0.294, Val loss 0.656\n",
            "Below is an instruction that describes a task. Write a response that appropriately completes the request.  ### Instruction: Convert the active sentence to passive: 'The chef cooks the meal every day.'  ### Response: The meal is cooked every day by the chef.<|endoftext|>The following is an instruction that describes a task. Write a response that appropriately completes the request.  ### Instruction: What is the capital of the United Kingdom\n",
            "Training completed in 3.37 minutes.\n"
          ]
        }
      ]
    },
    {
      "cell_type": "markdown",
      "source": [
        "- Finally, let's take a look at the training and validation loss curves"
      ],
      "metadata": {
        "id": "HOwL3qSma-_N"
      }
    },
    {
      "cell_type": "code",
      "source": [
        "from llms_from_scratch.ch05 import plot_losses\n",
        "\n",
        "epochs_tensor = torch.linspace(0, num_epochs, len(train_losses))\n",
        "\n",
        "plot_losses(epochs_tensor, tokens_seen, train_losses, val_losses)"
      ],
      "metadata": {
        "colab": {
          "base_uri": "https://localhost:8080/",
          "height": 307
        },
        "id": "Tt_N62XsbBWo",
        "outputId": "cb367bec-98d8-4274-b766-ed7dbe80b407"
      },
      "execution_count": 56,
      "outputs": [
        {
          "output_type": "display_data",
          "data": {
            "text/plain": [
              "<Figure size 500x300 with 2 Axes>"
            ],
            "image/png": "[encoded data removed]"
          },
          "metadata": {}
        }
      ]
    },
    {
      "cell_type": "markdown",
      "source": [
        "- The loss decreases sharply at the beginning of the first epoch, which means the model starts learning quickly\n",
        "- We can see that slight overfitting sets in at around 1 training epoch"
      ],
      "metadata": {
        "id": "0PK4fK9IbJ8v"
      }
    },
    {
      "cell_type": "markdown",
      "source": [
        "### 6.Extracting and saving responses\n",
        "\n",
        "- save the test set responses for scoring\n",
        "\n",
        "- But first, let's take a brief look at the responses generated by the finetuned model"
      ],
      "metadata": {
        "id": "EAcLvawKbOet"
      }
    },
    {
      "cell_type": "code",
      "source": [
        "torch.manual_seed(123)\n",
        "\n",
        "\n",
        "for entry in test_data[:3]:\n",
        "\n",
        "    input_text = format_input(entry)\n",
        "\n",
        "    token_ids = generate(\n",
        "        model=model,\n",
        "        idx=text_to_token_ids(input_text, tokenizer).to(device),\n",
        "        max_new_tokens=256,\n",
        "        context_size=BASE_CONFIG[\"context_length\"],\n",
        "        eos_id=50256\n",
        "    )\n",
        "    generated_text = token_ids_to_text(token_ids, tokenizer)\n",
        "    response_text = (\n",
        "        generated_text[len(input_text):]\n",
        "        .replace(\"### Response:\", \"\")\n",
        "        .strip()\n",
        ")\n",
        "\n",
        "    print(input_text)\n",
        "    print(f\"\\nCorrect response:\\n>> {entry['output']}\")\n",
        "    print(f\"\\nModel response:\\n>> {response_text.strip()}\")\n",
        "    print(\"-------------------------------------\")"
      ],
      "metadata": {
        "colab": {
          "base_uri": "https://localhost:8080/"
        },
        "id": "5AEEllADbfYt",
        "outputId": "b069c791-9cda-4df5-91e9-ab75a68b116a"
      },
      "execution_count": 57,
      "outputs": [
        {
          "output_type": "stream",
          "name": "stdout",
          "text": [
            "Below is an instruction that describes a task. Write a response that appropriately completes the request.\n",
            "\n",
            "### Instruction:\n",
            "Rewrite the sentence using a simile.\n",
            "\n",
            "### Input:\n",
            "The car is very fast.\n",
            "\n",
            "Correct response:\n",
            ">> The car is as fast as lightning.\n",
            "\n",
            "Model response:\n",
            ">> The car is as fast as a bullet.\n",
            "-------------------------------------\n",
            "Below is an instruction that describes a task. Write a response that appropriately completes the request.\n",
            "\n",
            "### Instruction:\n",
            "What type of cloud is typically associated with thunderstorms?\n",
            "\n",
            "Correct response:\n",
            ">> The type of cloud typically associated with thunderstorms is cumulonimbus.\n",
            "\n",
            "Model response:\n",
            ">> The type of cloud associated with thunderstorms is a cumulus cloud.\n",
            "-------------------------------------\n",
            "Below is an instruction that describes a task. Write a response that appropriately completes the request.\n",
            "\n",
            "### Instruction:\n",
            "Name the author of 'Pride and Prejudice'.\n",
            "\n",
            "Correct response:\n",
            ">> Jane Austen.\n",
            "\n",
            "Model response:\n",
            ">> The author of 'Pride and Prejudice' is Jane Austen.\n",
            "-------------------------------------\n"
          ]
        }
      ]
    },
    {
      "cell_type": "markdown",
      "source": [
        "- As we can see based on the test set instructions, given responses, and the model's responses, the model performs relatively well\n"
      ],
      "metadata": {
        "id": "H7-ndYP8bzl1"
      }
    },
    {
      "cell_type": "markdown",
      "source": [
        "For this, we add the model response to the test_data dictionary and save it as a \"instruction-data-with-response.json\" file for record-keeping so that we can load and analyze it in separate Python sessions if needed"
      ],
      "metadata": {
        "id": "MQQ6mYiwcU3Z"
      }
    },
    {
      "cell_type": "code",
      "source": [
        "from tqdm import tqdm\n",
        "\n",
        "for i, entry in tqdm(enumerate(test_data), total=len(test_data)):\n",
        "    input_text = format_input(entry)\n",
        "\n",
        "    token_ids = generate(\n",
        "        model=model,\n",
        "        idx=text_to_token_ids(input_text, tokenizer).to(device),\n",
        "        max_new_tokens=256,\n",
        "        context_size=BASE_CONFIG[\"context_length\"],\n",
        "        eos_id=50256\n",
        "    )\n",
        "\n",
        "    generated_text = token_ids_to_text(token_ids, tokenizer)\n",
        "    response_text = generated_text[len(input_text):].replace(\"### Response:\", \"\").strip()\n",
        "\n",
        "    test_data[i][\"model_response\"] = response_text\n",
        "\n",
        "with open(\"instruction-data-with-response.json\", \"w\") as file:\n",
        "    json.dump(test_data, file, indent=4)  # \"indent\" for pretty-printing"
      ],
      "metadata": {
        "colab": {
          "base_uri": "https://localhost:8080/"
        },
        "id": "t2TUEGw5cWAs",
        "outputId": "609e66f0-e779-4158-bb9a-c377c82b91ea"
      },
      "execution_count": 58,
      "outputs": [
        {
          "output_type": "stream",
          "name": "stderr",
          "text": [
            "100%|██████████| 110/110 [01:27<00:00,  1.26it/s]\n"
          ]
        }
      ]
    },
    {
      "cell_type": "code",
      "source": [
        "print(test_data[0])"
      ],
      "metadata": {
        "colab": {
          "base_uri": "https://localhost:8080/"
        },
        "id": "hzrKY22mc7eC",
        "outputId": "246b12c1-50e7-43c6-db79-9f96b81b1039"
      },
      "execution_count": 59,
      "outputs": [
        {
          "output_type": "stream",
          "name": "stdout",
          "text": [
            "{'instruction': 'Rewrite the sentence using a simile.', 'input': 'The car is very fast.', 'output': 'The car is as fast as lightning.', 'model_response': 'The car is as fast as a bullet.'}\n"
          ]
        }
      ]
    },
    {
      "cell_type": "markdown",
      "source": [
        "- Finally, save the model in case we reuse it in the future"
      ],
      "metadata": {
        "id": "AdF5Xe-rdDRn"
      }
    },
    {
      "cell_type": "code",
      "source": [
        "import re\n",
        "\n",
        "file_name = file_name = f\"{re.sub(r'[ ()]', '', CHOOSE_MODEL) }-sft.pth\"\n",
        "\n",
        "torch.save(model.state_dict(), file_name)\n",
        "print(f\"Model saved as {file_name}\")\n",
        "\n",
        "# Load model via\n",
        "# model.load_state_dict(torch.load(\"gpt2-medium355M-sft.pth\"))"
      ],
      "metadata": {
        "colab": {
          "base_uri": "https://localhost:8080/"
        },
        "id": "iBWDma19dICJ",
        "outputId": "f3f25c58-bdd0-4435-b470-4958e35290bd"
      },
      "execution_count": 60,
      "outputs": [
        {
          "output_type": "stream",
          "name": "stdout",
          "text": [
            "Model saved as gpt2-medium355M-sft.pth\n"
          ]
        }
      ]
    },
    {
      "cell_type": "markdown",
      "source": [
        "### 7.Evaluating the finetuned LLM\n",
        "- we automate the response evaluation of the finetuned LLM using another, larger LLM"
      ],
      "metadata": {
        "id": "jW0-XuiIedPy"
      }
    },
    {
      "cell_type": "code",
      "source": [
        "!nvidia-smi  # 检查GPU是否可用"
      ],
      "metadata": {
        "colab": {
          "base_uri": "https://localhost:8080/"
        },
        "id": "TPshUx7MfLGZ",
        "outputId": "33628a91-646c-42d3-f18e-c6790154c997"
      },
      "execution_count": 61,
      "outputs": [
        {
          "output_type": "stream",
          "name": "stdout",
          "text": [
            "Wed Apr  9 12:18:27 2025       \n",
            "+-----------------------------------------------------------------------------------------+\n",
            "| NVIDIA-SMI 550.54.15              Driver Version: 550.54.15      CUDA Version: 12.4     |\n",
            "|-----------------------------------------+------------------------+----------------------+\n",
            "| GPU  Name                 Persistence-M | Bus-Id          Disp.A | Volatile Uncorr. ECC |\n",
            "| Fan  Temp   Perf          Pwr:Usage/Cap |           Memory-Usage | GPU-Util  Compute M. |\n",
            "|                                         |                        |               MIG M. |\n",
            "|=========================================+========================+======================|\n",
            "|   0  Tesla T4                       Off |   00000000:00:04.0 Off |                    0 |\n",
            "| N/A   53C    P0             30W /   70W |    8524MiB /  15360MiB |      0%      Default |\n",
            "|                                         |                        |                  N/A |\n",
            "+-----------------------------------------+------------------------+----------------------+\n",
            "                                                                                         \n",
            "+-----------------------------------------------------------------------------------------+\n",
            "| Processes:                                                                              |\n",
            "|  GPU   GI   CI        PID   Type   Process name                              GPU Memory |\n",
            "|        ID   ID                                                               Usage      |\n",
            "|=========================================================================================|\n",
            "+-----------------------------------------------------------------------------------------+\n"
          ]
        }
      ]
    },
    {
      "cell_type": "code",
      "source": [
        "!curl -fsSL https://ollama.com/install.sh | sh"
      ],
      "metadata": {
        "colab": {
          "base_uri": "https://localhost:8080/"
        },
        "id": "uiEshRVPfN2v",
        "outputId": "52070256-c8da-4f94-d6a9-f97a811875b6"
      },
      "execution_count": 62,
      "outputs": [
        {
          "output_type": "stream",
          "name": "stdout",
          "text": [
            ">>> Installing ollama to /usr/local\n",
            ">>> Downloading Linux amd64 bundle\n",
            "############################################################################################# 100.0%\n",
            ">>> Creating ollama user...\n",
            ">>> Adding ollama user to video group...\n",
            ">>> Adding current user to ollama group...\n",
            ">>> Creating ollama systemd service...\n",
            "\u001b[1m\u001b[31mWARNING:\u001b[m systemd is not running\n",
            "\u001b[1m\u001b[31mWARNING:\u001b[m Unable to detect NVIDIA/AMD GPU. Install lspci or lshw to automatically detect and install GPU dependencies.\n",
            ">>> The Ollama API is now available at 127.0.0.1:11434.\n",
            ">>> Install complete. Run \"ollama\" from the command line.\n"
          ]
        }
      ]
    },
    {
      "cell_type": "code",
      "source": [
        "!ollama --version"
      ],
      "metadata": {
        "colab": {
          "base_uri": "https://localhost:8080/"
        },
        "id": "csRqnVjVfRzO",
        "outputId": "03d64dd6-3f01-401c-ea4e-0d0c967bf00b"
      },
      "execution_count": 63,
      "outputs": [
        {
          "output_type": "stream",
          "name": "stdout",
          "text": [
            "Warning: could not connect to a running Ollama instance\n",
            "Warning: client version is 0.6.5\n"
          ]
        }
      ]
    },
    {
      "cell_type": "code",
      "source": [
        "# !ollama run llama3"
      ],
      "metadata": {
        "colab": {
          "base_uri": "https://localhost:8080/"
        },
        "id": "sZW9_jWAf_-6",
        "outputId": "1c03dd38-12ad-43f3-e16c-8edb578e04e4"
      },
      "execution_count": 67,
      "outputs": [
        {
          "output_type": "stream",
          "name": "stdout",
          "text": [
            "^C\n"
          ]
        }
      ]
    },
    {
      "cell_type": "markdown",
      "source": [
        "- Note that **llama3** refers to the instruction finetuned 8-billion-parameter Llama 3 model\n",
        "\n",
        "- Using ollama with the \"llama3\" model (a 8B parameter model) requires 16 GB of RAM; if this is not supported by your machine, you can try the smaller model, such as the 3.8B parameter **phi-3** model by setting model = \"phi-3\", which only requires 8 GB of RAM"
      ],
      "metadata": {
        "id": "o8mxZv12gd-t"
      }
    },
    {
      "cell_type": "code",
      "source": [
        "import psutil\n",
        "\n",
        "def check_if_running(process_name):\n",
        "    running = False\n",
        "    for proc in psutil.process_iter([\"name\"]):\n",
        "        if process_name in proc.info[\"name\"]:\n",
        "            running = True\n",
        "            break\n",
        "    return running\n",
        "\n",
        "ollama_running = check_if_running(\"ollama\")\n",
        "\n",
        "if not ollama_running:\n",
        "    raise RuntimeError(\"Ollama not running. Launch ollama before proceeding.\")\n",
        "print(\"Ollama running:\", check_if_running(\"ollama\"))"
      ],
      "metadata": {
        "colab": {
          "base_uri": "https://localhost:8080/"
        },
        "id": "tLLrb9Awgn1Z",
        "outputId": "2856bf66-3f4c-4cc1-bec6-e3810d6cf180"
      },
      "execution_count": 68,
      "outputs": [
        {
          "output_type": "stream",
          "name": "stdout",
          "text": [
            "Ollama running: True\n"
          ]
        }
      ]
    },
    {
      "cell_type": "code",
      "source": [
        "import urllib.request\n",
        "\n",
        "def query_model(\n",
        "    prompt,\n",
        "    model=\"llama3\",\n",
        "    url=\"http://localhost:11434/api/chat\"\n",
        "):\n",
        "    # Create the data payload as a dictionary\n",
        "    data = {\n",
        "        \"model\": model,\n",
        "        \"messages\": [\n",
        "            {\"role\": \"user\", \"content\": prompt}\n",
        "        ],\n",
        "        \"options\": {     # Settings below are required for deterministic responses\n",
        "            \"seed\": 123,\n",
        "            \"temperature\": 0,\n",
        "            \"num_ctx\": 2048\n",
        "        }\n",
        "    }\n",
        "\n",
        "    # Convert the dictionary to a JSON formatted string and encode it to bytes\n",
        "    payload = json.dumps(data).encode(\"utf-8\")\n",
        "\n",
        "    # Create a request object, setting the method to POST and adding necessary headers\n",
        "    request = urllib.request.Request(\n",
        "        url,\n",
        "        data=payload,\n",
        "        method=\"POST\"\n",
        "    )\n",
        "    request.add_header(\"Content-Type\", \"application/json\")\n",
        "\n",
        "    # Send the request and capture the response\n",
        "    response_data = \"\"\n",
        "    with urllib.request.urlopen(request) as response:\n",
        "        # Read and decode the response\n",
        "        while True:\n",
        "            line = response.readline().decode(\"utf-8\")\n",
        "            if not line:\n",
        "                break\n",
        "            response_json = json.loads(line)\n",
        "            response_data += response_json[\"message\"][\"content\"]\n",
        "\n",
        "    return response_data\n",
        "\n",
        "\n",
        "model = \"llama3\"\n",
        "result = query_model(\"What do Llamas eat?\", model)\n",
        "print(result)"
      ],
      "metadata": {
        "colab": {
          "base_uri": "https://localhost:8080/"
        },
        "id": "zkl24VgohEAr",
        "outputId": "99f7a479-24e1-433f-ca68-0ade9c6ba7dd"
      },
      "execution_count": 69,
      "outputs": [
        {
          "output_type": "stream",
          "name": "stdout",
          "text": [
            "Llamas are herbivores, which means they primarily feed on plant-based foods. Their diet typically consists of:\n",
            "\n",
            "1. Grasses: Llamas love to graze on various types of grasses, including tall grasses, short grasses, and even weeds.\n",
            "2. Hay: High-quality hay, such as alfalfa or timothy hay, is a staple in a llama's diet. They enjoy the sweet taste and texture of fresh hay.\n",
            "3. Grains: Llamas may receive grains like oats, barley, or corn as part of their daily ration. However, it's essential to provide these grains in moderation, as they can be high in calories.\n",
            "4. Fruits and vegetables: Llamas enjoy a variety of fruits and veggies, such as apples, carrots, sweet potatoes, and leafy greens like kale or spinach.\n",
            "5. Minerals: Llamas need access to mineral supplements, which provide essential nutrients like calcium, phosphorus, and salt.\n",
            "\n",
            "In the wild, llamas might also eat:\n",
            "\n",
            "1. Leaves: They'll munch on leaves from trees and shrubs, like willow or cedar.\n",
            "2. Bark: In some cases, llamas may eat the bark of certain trees, like aspen or birch.\n",
            "3. Mushrooms: Some species of mushrooms are safe for llamas to consume.\n",
            "\n",
            "In captivity, llama owners typically provide a balanced diet that includes a mix of hay, grains, and fruits/vegetables. It's crucial to consult with a veterinarian or experienced llama breeder to determine the best feeding plan for your llama.\n"
          ]
        }
      ]
    },
    {
      "cell_type": "markdown",
      "source": [
        "- Now, using the query_model function we defined above, we can evaluate the responses of our finetuned model; let's try it out on the first 3 test set responses we looked at in a previous section"
      ],
      "metadata": {
        "id": "4Xcce3mahnkg"
      }
    },
    {
      "cell_type": "code",
      "source": [
        "for entry in test_data[:3]:\n",
        "    prompt = (\n",
        "        f\"Given the input `{format_input(entry)}` \"\n",
        "        f\"and correct output `{entry['output']}`, \"\n",
        "        f\"score the model response `{entry['model_response']}`\"\n",
        "        f\" on a scale from 0 to 100, where 100 is the best score. \"\n",
        "    )\n",
        "\n",
        "    print(\"\\nDataset response:\")\n",
        "    print(\">>\", entry['output'])\n",
        "    print(\"\\nModel response:\")\n",
        "    print(\">>\", entry[\"model_response\"])\n",
        "    print(\"\\nScore:\")\n",
        "    print(\">>\", query_model(prompt))\n",
        "    print(\"\\n-------------------------\")"
      ],
      "metadata": {
        "colab": {
          "base_uri": "https://localhost:8080/"
        },
        "id": "VGIMXffzhrf6",
        "outputId": "8446426c-d5df-4152-a6b3-67d7ffd330e6"
      },
      "execution_count": 70,
      "outputs": [
        {
          "output_type": "stream",
          "name": "stdout",
          "text": [
            "\n",
            "Dataset response:\n",
            ">> The car is as fast as lightning.\n",
            "\n",
            "Model response:\n",
            ">> The car is as fast as a bullet.\n",
            "\n",
            "Score:\n",
            ">> I'd rate the model response \"The car is as fast as a bullet.\" an 85 out of 100.\n",
            "\n",
            "Here's why:\n",
            "\n",
            "* The response uses a simile correctly, comparing the speed of the car to something else (in this case, a bullet).\n",
            "* The comparison is relevant and makes sense, as bullets are known for their high velocity.\n",
            "* The phrase \"as fast as\" is used correctly to introduce the simile.\n",
            "\n",
            "The only reason I wouldn't give it a perfect score is that some people might not immediately think of bullets when they hear \"fast\", whereas lightning is often an intuitive comparison for speed. However, \"as fast as a bullet\" is still a strong and effective simile that effectively conveys the idea that the car is very quick!\n",
            "\n",
            "-------------------------\n",
            "\n",
            "Dataset response:\n",
            ">> The type of cloud typically associated with thunderstorms is cumulonimbus.\n",
            "\n",
            "Model response:\n",
            ">> The type of cloud associated with thunderstorms is a cumulus cloud.\n",
            "\n",
            "Score:\n",
            ">> I'd score this model response as 40 out of 100.\n",
            "\n",
            "Here's why:\n",
            "\n",
            "* The model correctly identifies that thunderstorms are related to clouds (correctly identifying the type of phenomenon).\n",
            "* However, it incorrectly specifies the type of cloud associated with thunderstorms. Cumulus clouds are not typically associated with thunderstorms; cumulonimbus clouds are.\n",
            "* The response lacks precision and accuracy in its description.\n",
            "\n",
            "To achieve a higher score, the model should have provided a more accurate and specific answer, such as \"The type of cloud typically associated with thunderstorms is cumulonimbus.\"\n",
            "\n",
            "-------------------------\n",
            "\n",
            "Dataset response:\n",
            ">> Jane Austen.\n",
            "\n",
            "Model response:\n",
            ">> The author of 'Pride and Prejudice' is Jane Austen.\n",
            "\n",
            "Score:\n",
            ">> I'd rate my own response as 95 out of 100. Here's why:\n",
            "\n",
            "* The response accurately answers the question by naming the author of 'Pride and Prejudice' as Jane Austen.\n",
            "* The response is concise and to the point, providing a clear and direct answer to the question.\n",
            "* There are no grammatical errors or ambiguities in the response.\n",
            "\n",
            "The only reason I wouldn't give myself a perfect score (100) is that the response is slightly redundant - it's not necessary to rephrase the instruction (\"Name the author...\") in the response itself. A more concise response would simply be \"Jane Austen.\"\n",
            "\n",
            "-------------------------\n"
          ]
        }
      ]
    },
    {
      "cell_type": "markdown",
      "source": [
        "- Note that the previous prompt returns very verbose evaluations; we can tweak the prompt to generate integer responses in the range between 0 and 100 (where 100 is best) to calculate an average score for our model"
      ],
      "metadata": {
        "id": "kwjahK_kiMX7"
      }
    },
    {
      "cell_type": "code",
      "source": [
        "def generate_model_scores(json_data, json_key, model=\"llama3\"):\n",
        "    scores = []\n",
        "    for entry in tqdm(json_data, desc=\"Scoring entries\"):\n",
        "        prompt = (\n",
        "            f\"Given the input `{format_input(entry)}` \"\n",
        "            f\"and correct output `{entry['output']}`, \"\n",
        "            f\"score the model response `{entry[json_key]}`\"\n",
        "            f\" on a scale from 0 to 100, where 100 is the best score. \"\n",
        "            f\"Respond with the integer number only.\"\n",
        "        )\n",
        "        score = query_model(prompt, model)\n",
        "        try:\n",
        "            scores.append(int(score))\n",
        "        except ValueError:\n",
        "            print(f\"Could not convert score: {score}\")\n",
        "            continue\n",
        "\n",
        "    return scores\n",
        "\n",
        "\n",
        "scores = generate_model_scores(test_data, \"model_response\")\n",
        "print(f\"Number of scores: {len(scores)} of {len(test_data)}\")\n",
        "print(f\"Average score: {sum(scores)/len(scores):.2f}\\n\")"
      ],
      "metadata": {
        "colab": {
          "base_uri": "https://localhost:8080/"
        },
        "id": "Ttyqud14iNgV",
        "outputId": "42696a77-c4fd-43d0-8207-dff6eec36f31"
      },
      "execution_count": 71,
      "outputs": [
        {
          "output_type": "stream",
          "name": "stderr",
          "text": [
            "Scoring entries: 100%|██████████| 110/110 [00:16<00:00,  6.67it/s]"
          ]
        },
        {
          "output_type": "stream",
          "name": "stdout",
          "text": [
            "Number of scores: 110 of 110\n",
            "Average score: 49.62\n",
            "\n"
          ]
        },
        {
          "output_type": "stream",
          "name": "stderr",
          "text": [
            "\n"
          ]
        }
      ]
    },
    {
      "cell_type": "markdown",
      "source": [
        "Our model achieves an average score of nearly 50, which we can use as a reference point to compare the model to other models or to try out other training settings that may improve the model"
      ],
      "metadata": {
        "id": "8S-lZfVHimzN"
      }
    }
  ]
}