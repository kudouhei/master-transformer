{
  "nbformat": 4,
  "nbformat_minor": 0,
  "metadata": {
    "colab": {
      "provenance": []
    },
    "kernelspec": {
      "name": "python3",
      "display_name": "Python 3"
    },
    "language_info": {
      "name": "python"
    }
  },
  "cells": [
    {
      "cell_type": "code",
      "source": [
        "# !pip install tiktoken"
      ],
      "metadata": {
        "id": "IVk805DfMC8W"
      },
      "execution_count": null,
      "outputs": []
    },
    {
      "cell_type": "code",
      "execution_count": null,
      "metadata": {
        "colab": {
          "base_uri": "https://localhost:8080/"
        },
        "id": "V2HyWssDLi65",
        "outputId": "4dc9af75-5175-4eda-9e0e-2e161eea6247"
      },
      "outputs": [
        {
          "output_type": "stream",
          "name": "stdout",
          "text": [
            "matplotlib version: 3.10.0\n",
            "numpy version: 2.0.2\n",
            "tiktoken version: 0.9.0\n",
            "torch version: 2.6.0+cu124\n",
            "tensorflow version: 2.18.0\n"
          ]
        }
      ],
      "source": [
        "from importlib.metadata import version\n",
        "\n",
        "pkgs = [\"matplotlib\",\n",
        "        \"numpy\",\n",
        "        \"tiktoken\",\n",
        "        \"torch\",\n",
        "        \"tensorflow\" # For OpenAI's pretrained weights\n",
        "       ]\n",
        "for p in pkgs:\n",
        "    print(f\"{p} version: {version(p)}\")"
      ]
    },
    {
      "cell_type": "code",
      "source": [
        "# !pip install llms-from-scratch"
      ],
      "metadata": {
        "id": "P5tnVP3Kek9Z"
      },
      "execution_count": null,
      "outputs": []
    },
    {
      "cell_type": "markdown",
      "source": [
        "####Using GPT to generate text"
      ],
      "metadata": {
        "id": "HK5Zun1ynkH4"
      }
    },
    {
      "cell_type": "code",
      "source": [
        "import torch\n",
        "# from previous_chapters import GPTModel\n",
        "\n",
        "from llms_from_scratch.ch04 import GPTModel\n",
        "\n",
        "GPT_CONFIG_124M = {\n",
        "    \"vocab_size\": 50257,   # Vocabulary size\n",
        "    \"context_length\": 256, # Shortened context length (orig: 1024)\n",
        "    \"emb_dim\": 384,        # Embedding dimension\n",
        "    \"n_heads\": 12,         # Number of attention heads\n",
        "    \"n_layers\": 6,        # Number of layers\n",
        "    \"drop_rate\": 0.1,      # Dropout rate\n",
        "    \"qkv_bias\": False      # Query-key-value bias\n",
        "}\n",
        "\n",
        "torch.manual_seed(123)\n",
        "model = GPTModel(GPT_CONFIG_124M)\n",
        "model.eval();  # Disable dropout during inference"
      ],
      "metadata": {
        "id": "On209wd9eaq1"
      },
      "execution_count": 6,
      "outputs": []
    },
    {
      "cell_type": "code",
      "source": [
        "import tiktoken\n",
        "from llms_from_scratch.ch04 import generate_text_simple\n",
        "\n",
        "def text_to_token_ids(text, tokenizer):\n",
        "    encoded = tokenizer.encode(text, allowed_special={'<|endoftext|>'})\n",
        "    encoded_tensor = torch.tensor(encoded).unsqueeze(0)  # add batch dimension\n",
        "    return encoded_tensor\n",
        "\n",
        "def token_ids_to_text(token_ids, tokenizer):\n",
        "    flat = token_ids.squeeze(0) # remove batch dimension\n",
        "    return tokenizer.decode(flat.tolist())\n",
        "\n",
        "start_context = \"Every effort moves you\"\n",
        "\n",
        "tokenizer = tiktoken.get_encoding(\"gpt2\")\n",
        "\n",
        "token_ids = generate_text_simple(\n",
        "    model=model,\n",
        "    idx=text_to_token_ids(start_context, tokenizer),\n",
        "    max_new_tokens=10,\n",
        "    context_size=GPT_CONFIG_124M[\"context_length\"]\n",
        ")\n",
        "\n",
        "print(\"Output text:\\n\", token_ids_to_text(token_ids, tokenizer))"
      ],
      "metadata": {
        "colab": {
          "base_uri": "https://localhost:8080/"
        },
        "id": "elkJ7xrGilFH",
        "outputId": "6575fb28-ff01-4e29-efcc-cade5244747e"
      },
      "execution_count": 7,
      "outputs": [
        {
          "output_type": "stream",
          "name": "stdout",
          "text": [
            "Output text:\n",
            " Every effort moves you Wee contacted expectations VS grip\\- Romaniantank748 Rossi\n"
          ]
        }
      ]
    },
    {
      "cell_type": "markdown",
      "source": [
        "#### Calculating the text generation loss: cross-entropy and perplexity\n",
        "\n",
        "- Suppose we have an inputs tensor containing the token IDs for 2 training examples (rows)\n",
        "- Corresponding to the inputs, the targets contain the desired token IDs that we want the model to generate\n",
        "- Notice that the targets are the inputs shifted by 1 position"
      ],
      "metadata": {
        "id": "7f-zxjLTnn3U"
      }
    },
    {
      "cell_type": "code",
      "source": [
        "inputs = torch.tensor([[16833, 3626, 6100],   # [\"every effort moves\",\n",
        "                       [40,    1107, 588]])   #  \"I really like\"]\n",
        "\n",
        "targets = torch.tensor([[3626, 6100, 345  ],  # [\" effort moves you\",\n",
        "                        [1107,  588, 11311]]) #  \" really like chocolate\"]"
      ],
      "metadata": {
        "id": "beTl-rUGniNb"
      },
      "execution_count": 8,
      "outputs": []
    },
    {
      "cell_type": "markdown",
      "source": [
        "- Feeding the `inputs` to the model, we obtain the logits vector for the 2 input examples that consist of 3 tokens each\n",
        "- Each of the tokens is a 50,257-dimensional vector corresponding to the size of the vocabulary\n",
        "- Applying the softmax function, we can turn the logits tensor into a tensor of the same dimension containing probability scores"
      ],
      "metadata": {
        "id": "TdNJIMWJoHnI"
      }
    },
    {
      "cell_type": "code",
      "source": [
        "with torch.no_grad():       # 临时关闭梯度计算\n",
        "    logits = model(inputs)  # 模型前向传播（推理）\n",
        "\n",
        "probas = torch.softmax(logits, dim=-1) # Probability of each token in vocabulary\n",
        "print(probas.shape) # Shape: (batch_size, num_tokens, vocab_size)"
      ],
      "metadata": {
        "colab": {
          "base_uri": "https://localhost:8080/"
        },
        "id": "mDhh4M1MoUiE",
        "outputId": "040bcf1a-7f23-445d-9bc2-4529c2caea8f"
      },
      "execution_count": 9,
      "outputs": [
        {
          "output_type": "stream",
          "name": "stdout",
          "text": [
            "torch.Size([2, 3, 50257])\n"
          ]
        }
      ]
    },
    {
      "cell_type": "code",
      "source": [
        "token_ids = torch.argmax(probas, dim=-1, keepdim=True)\n",
        "\n",
        "print(\"Token IDs:\\n\", token_ids)"
      ],
      "metadata": {
        "colab": {
          "base_uri": "https://localhost:8080/"
        },
        "id": "tUDqHU1uo9hB",
        "outputId": "dbf16174-96f7-4a1c-cc40-222940cb1653"
      },
      "execution_count": 10,
      "outputs": [
        {
          "output_type": "stream",
          "name": "stdout",
          "text": [
            "Token IDs:\n",
            " tensor([[[37183],\n",
            "         [40152],\n",
            "         [29571]],\n",
            "\n",
            "        [[ 9599],\n",
            "         [16681],\n",
            "         [29905]]])\n"
          ]
        }
      ]
    },
    {
      "cell_type": "code",
      "source": [
        "print(f\"Targets batch 1: {token_ids_to_text(targets[0], tokenizer)}\")\n",
        "\n",
        "print(f\"Outputs batch 1: {token_ids_to_text(token_ids[0].flatten(), tokenizer)}\")"
      ],
      "metadata": {
        "colab": {
          "base_uri": "https://localhost:8080/"
        },
        "id": "nY8GpUs-pR2u",
        "outputId": "27759f33-6972-4b11-ad2b-7f8fe376174a"
      },
      "execution_count": 11,
      "outputs": [
        {
          "output_type": "stream",
          "name": "stdout",
          "text": [
            "Targets batch 1:  effort moves you\n",
            "Outputs batch 1:  bolst CuttingEight\n"
          ]
        }
      ]
    },
    {
      "cell_type": "markdown",
      "source": [
        "- The model produces random text that is different from the target text because it has not been trained yet.\n",
        "\n",
        "- To train the model, we need to know how far it is away from the correct predictions (targets)\n",
        "\n",
        "Softmax 概率\n",
        "- Softmax 是一种将原始分数（logits）转换为概率分布的函数，常用于多分类问题（比如图像分类、文本分类）。它的核心作用是：“让大的数值更大，小的数值更小，并且所有结果加起来等于 1（100% 概率）。”\n",
        "\n",
        "![image.png](data:image/png;base64,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)\n"
      ],
      "metadata": {
        "id": "NxiFJS0aph1q"
      }
    },
    {
      "cell_type": "code",
      "source": [
        "text_idx = 0\n",
        "target_probas_1 = probas[text_idx, [0, 1, 2], targets[text_idx]]\n",
        "print(\"Text 1:\", target_probas_1)\n",
        "\n",
        "text_idx = 1\n",
        "target_probas_2 = probas[text_idx, [0, 1, 2], targets[text_idx]]\n",
        "print(\"Text 2:\", target_probas_2)"
      ],
      "metadata": {
        "id": "gZLab2jOt9Uf",
        "colab": {
          "base_uri": "https://localhost:8080/"
        },
        "outputId": "250119f8-fe75-46f8-d816-a563c256e9ec"
      },
      "execution_count": 12,
      "outputs": [
        {
          "output_type": "stream",
          "name": "stdout",
          "text": [
            "Text 1: tensor([2.1977e-05, 3.7974e-05, 2.1748e-05])\n",
            "Text 2: tensor([1.8700e-05, 3.6099e-05, 1.5197e-05])\n"
          ]
        }
      ]
    },
    {
      "cell_type": "code",
      "source": [
        "# Compute logarithm of all token probabilities\n",
        "# 将两个概率张量拼接后取对数\n",
        "log_probas = torch.log(torch.cat((target_probas_1, target_probas_2)))\n",
        "\n",
        "print(log_probas)"
      ],
      "metadata": {
        "colab": {
          "base_uri": "https://localhost:8080/"
        },
        "id": "9oOo8ATmwEp-",
        "outputId": "05151c8b-1ce5-4910-9c2f-34704719f9c7"
      },
      "execution_count": 13,
      "outputs": [
        {
          "output_type": "stream",
          "name": "stdout",
          "text": [
            "tensor([-10.7255, -10.1786, -10.7360, -10.8870, -10.2292, -11.0944])\n"
          ]
        }
      ]
    },
    {
      "cell_type": "code",
      "source": [
        "# Calculate the average probability for each token\n",
        "avg_log_probas = torch.mean(log_probas)\n",
        "\n",
        "print(avg_log_probas)"
      ],
      "metadata": {
        "colab": {
          "base_uri": "https://localhost:8080/"
        },
        "id": "AOzt3_FowEoL",
        "outputId": "9e423d20-682e-43fa-9e49-0b1490227ba5"
      },
      "execution_count": 14,
      "outputs": [
        {
          "output_type": "stream",
          "name": "stdout",
          "text": [
            "tensor(-10.6418)\n"
          ]
        }
      ]
    },
    {
      "cell_type": "code",
      "source": [
        "neg_avg_log_probas = avg_log_probas * -1  # 把对数概率均值变成正数，适合作为损失值，越小越好（损失视角）\n",
        "\n",
        "print(neg_avg_log_probas)"
      ],
      "metadata": {
        "colab": {
          "base_uri": "https://localhost:8080/"
        },
        "id": "Y3-kx8JexZ5i",
        "outputId": "fe718875-0a0a-4095-d589-8adaad7cd9fc"
      },
      "execution_count": 15,
      "outputs": [
        {
          "output_type": "stream",
          "name": "stdout",
          "text": [
            "tensor(10.6418)\n"
          ]
        }
      ]
    },
    {
      "cell_type": "markdown",
      "source": [
        "- The goal is to get the average log probability as close to 0 as possible by updating the model’s weights as part of the training process."
      ],
      "metadata": {
        "id": "Ti1sHC9RyUio"
      }
    },
    {
      "cell_type": "code",
      "source": [
        "# Logits have shape (batch_size, num_tokens, vocab_size)\n",
        "print(\"Logits shape:\", logits.shape)\n",
        "\n",
        "# Targets have shape (batch_size, num_tokens)\n",
        "print(\"Targets shape:\", targets.shape)"
      ],
      "metadata": {
        "colab": {
          "base_uri": "https://localhost:8080/"
        },
        "id": "ecRMB94G1x_B",
        "outputId": "98e72e69-6fac-4751-e069-cf18f7c708f3"
      },
      "execution_count": 16,
      "outputs": [
        {
          "output_type": "stream",
          "name": "stdout",
          "text": [
            "Logits shape: torch.Size([2, 3, 50257])\n",
            "Targets shape: torch.Size([2, 3])\n"
          ]
        }
      ]
    },
    {
      "cell_type": "markdown",
      "source": [
        "- For the cross_entropy function in PyTorch, we want to flatten these tensors by combining them over the batch dimension:"
      ],
      "metadata": {
        "id": "yrUzy6dG1087"
      }
    },
    {
      "cell_type": "code",
      "source": [
        "logits_flat = logits.flatten(0, 1)\n",
        "targets_flat = targets.flatten()\n",
        "\n",
        "print(\"Flattened logits:\", logits_flat.shape)\n",
        "print(\"Flattened targets:\", targets_flat.shape)"
      ],
      "metadata": {
        "colab": {
          "base_uri": "https://localhost:8080/"
        },
        "id": "fYdEUYoz11y6",
        "outputId": "52b0b17d-9738-48fe-e58f-e5fb2becc4ab"
      },
      "execution_count": 17,
      "outputs": [
        {
          "output_type": "stream",
          "name": "stdout",
          "text": [
            "Flattened logits: torch.Size([6, 50257])\n",
            "Flattened targets: torch.Size([6])\n"
          ]
        }
      ]
    },
    {
      "cell_type": "markdown",
      "source": [
        "- Here the **targets** are the token IDs we want the LLM to generate, and the **logits** contain the unscaled model outputs before they enter the softmax function to obtain the probability scores."
      ],
      "metadata": {
        "id": "BsKX2kJA2D2f"
      }
    },
    {
      "cell_type": "markdown",
      "source": [
        "- The **cross_entropy** function in PyTorch will automatically take care of applying the softmax and log-probability computation internally over those token indices in the logits that are to be maximized"
      ],
      "metadata": {
        "id": "7phuw8Ak2T2W"
      }
    },
    {
      "cell_type": "code",
      "source": [
        "loss = torch.nn.functional.cross_entropy(logits_flat, targets_flat)\n",
        "\n",
        "print(loss)"
      ],
      "metadata": {
        "colab": {
          "base_uri": "https://localhost:8080/"
        },
        "id": "yPB9hqcm2Wbu",
        "outputId": "9eb73d1e-e868-4fc7-cf29-4f8eb013ff20"
      },
      "execution_count": 18,
      "outputs": [
        {
          "output_type": "stream",
          "name": "stdout",
          "text": [
            "tensor(10.6418)\n"
          ]
        }
      ]
    },
    {
      "cell_type": "markdown",
      "source": [
        "- A concept related to the cross-entropy loss is the perplexity of an LLM\n",
        "- The perplexity is simply the exponential of the cross-entropy loss"
      ],
      "metadata": {
        "id": "E067WFPE2uFQ"
      }
    },
    {
      "cell_type": "code",
      "source": [
        "perplexity = torch.exp(loss)\n",
        "\n",
        "print(perplexity)"
      ],
      "metadata": {
        "colab": {
          "base_uri": "https://localhost:8080/"
        },
        "id": "FO3uQfpK2v4E",
        "outputId": "fc52207e-8b11-4785-9de3-7976c0ea865a"
      },
      "execution_count": 19,
      "outputs": [
        {
          "output_type": "stream",
          "name": "stdout",
          "text": [
            "tensor(41847.9883)\n"
          ]
        }
      ]
    },
    {
      "cell_type": "markdown",
      "source": [
        "- The perplexity is often considered more interpretable because it can be understood as the effective vocabulary size that the model is uncertain about at each step (in the example above, that'd be 48,725 words or tokens)\n",
        "- In other words, perplexity provides a measure of how well the probability distribution predicted by the model matches the actual distribution of the words in the dataset\n",
        "- Similar to the loss, a lower perplexity indicates that the model predictions are closer to the actual distribution"
      ],
      "metadata": {
        "id": "Q0Bv3tWm4iaP"
      }
    },
    {
      "cell_type": "markdown",
      "source": [
        "#### Calculating the training and validation set losses\n",
        "\n",
        "- We use a relatively small dataset for training the LLM"
      ],
      "metadata": {
        "id": "5h0qzTuV6KM6"
      }
    },
    {
      "cell_type": "code",
      "source": [
        "import os\n",
        "import urllib.request\n",
        "\n",
        "file_path = \"the-verdict.txt\"\n",
        "url = \"https://raw.githubusercontent.com/rasbt/LLMs-from-scratch/main/ch02/01_main-chapter-code/the-verdict.txt\"\n",
        "\n",
        "if not os.path.exists(file_path):\n",
        "    with urllib.request.urlopen(url) as response:\n",
        "        text_data = response.read().decode('utf-8')\n",
        "    with open(file_path, \"w\", encoding=\"utf-8\") as file:\n",
        "        file.write(text_data)\n",
        "else:\n",
        "    with open(file_path, \"r\", encoding=\"utf-8\") as file:\n",
        "        text_data = file.read()"
      ],
      "metadata": {
        "id": "80AitcWP76Wh"
      },
      "execution_count": 20,
      "outputs": []
    },
    {
      "cell_type": "code",
      "source": [
        "print(text_data[:99])\n",
        "\n",
        "# Last 100 characters\n",
        "print(text_data[-99:])"
      ],
      "metadata": {
        "colab": {
          "base_uri": "https://localhost:8080/"
        },
        "id": "VAEW6Tzj8P4x",
        "outputId": "9c9376fd-f69f-44c7-8fe7-b5c7c9126e67"
      },
      "execution_count": 21,
      "outputs": [
        {
          "output_type": "stream",
          "name": "stdout",
          "text": [
            "I HAD always thought Jack Gisburn rather a cheap genius--though a good fellow enough--so it was no \n",
            "it for me! The Strouds stand alone, and happen once--but there's no exterminating our kind of art.\"\n"
          ]
        }
      ]
    },
    {
      "cell_type": "code",
      "source": [
        "total_characters = len(text_data)\n",
        "total_tokens = len(tokenizer.encode(text_data))\n",
        "\n",
        "print(\"Characters:\", total_characters)\n",
        "print(\"Tokens:\", total_tokens)"
      ],
      "metadata": {
        "colab": {
          "base_uri": "https://localhost:8080/"
        },
        "id": "WttwUOGR8ed9",
        "outputId": "84f33248-347d-44d4-db8b-eeeeccf48ea2"
      },
      "execution_count": 22,
      "outputs": [
        {
          "output_type": "stream",
          "name": "stdout",
          "text": [
            "Characters: 20479\n",
            "Tokens: 5145\n"
          ]
        }
      ]
    },
    {
      "cell_type": "code",
      "source": [
        "from llms_from_scratch.ch02 import create_dataloader_v1\n",
        "\n",
        "# Train/validation ratio\n",
        "train_ratio = 0.90\n",
        "split_idx = int(train_ratio * len(text_data))\n",
        "train_data = text_data[:split_idx]\n",
        "val_data = text_data[split_idx:]\n",
        "\n",
        "torch.manual_seed(123)\n",
        "\n",
        "train_loader = create_dataloader_v1(\n",
        "    train_data,\n",
        "    batch_size=2,\n",
        "    max_length=GPT_CONFIG_124M[\"context_length\"],\n",
        "    stride=GPT_CONFIG_124M[\"context_length\"],\n",
        "    drop_last=True,\n",
        "    shuffle=True,\n",
        "    num_workers=0\n",
        ")\n",
        "\n",
        "val_loader = create_dataloader_v1(\n",
        "    val_data,\n",
        "    batch_size=2,\n",
        "    max_length=GPT_CONFIG_124M[\"context_length\"],\n",
        "    stride=GPT_CONFIG_124M[\"context_length\"],\n",
        "    drop_last=False,\n",
        "    shuffle=False,\n",
        "    num_workers=0\n",
        ")"
      ],
      "metadata": {
        "id": "uGqJxiQ69Qx7"
      },
      "execution_count": 23,
      "outputs": []
    },
    {
      "cell_type": "code",
      "source": [
        "if total_tokens * (train_ratio) < GPT_CONFIG_124M[\"context_length\"]:\n",
        "    print(\"Not enough tokens for the training loader. \"\n",
        "          \"Try to lower the `GPT_CONFIG_124M['context_length']` or \"\n",
        "          \"increase the `training_ratio`\")\n",
        "\n",
        "if total_tokens * (1-train_ratio) < GPT_CONFIG_124M[\"context_length\"]:\n",
        "    print(\"Not enough tokens for the validation loader. \"\n",
        "          \"Try to lower the `GPT_CONFIG_124M['context_length']` or \"\n",
        "          \"decrease the `training_ratio`\")"
      ],
      "metadata": {
        "id": "TIc1Dk-2_fJd"
      },
      "execution_count": 24,
      "outputs": []
    },
    {
      "cell_type": "code",
      "source": [
        "print(\"Train loader:\")\n",
        "for x, y in train_loader:\n",
        "    print(x.shape, y.shape)\n",
        "\n",
        "print(\"\\nValidation loader:\")\n",
        "for x, y in val_loader:\n",
        "    print(x.shape, y.shape)"
      ],
      "metadata": {
        "colab": {
          "base_uri": "https://localhost:8080/"
        },
        "id": "cZq4JYT3_l7L",
        "outputId": "e1b6311a-2b7b-4e19-ac63-742e17f6b78a"
      },
      "execution_count": 25,
      "outputs": [
        {
          "output_type": "stream",
          "name": "stdout",
          "text": [
            "Train loader:\n",
            "torch.Size([2, 256]) torch.Size([2, 256])\n",
            "torch.Size([2, 256]) torch.Size([2, 256])\n",
            "torch.Size([2, 256]) torch.Size([2, 256])\n",
            "torch.Size([2, 256]) torch.Size([2, 256])\n",
            "torch.Size([2, 256]) torch.Size([2, 256])\n",
            "torch.Size([2, 256]) torch.Size([2, 256])\n",
            "torch.Size([2, 256]) torch.Size([2, 256])\n",
            "torch.Size([2, 256]) torch.Size([2, 256])\n",
            "torch.Size([2, 256]) torch.Size([2, 256])\n",
            "\n",
            "Validation loader:\n",
            "torch.Size([2, 256]) torch.Size([2, 256])\n"
          ]
        }
      ]
    },
    {
      "cell_type": "code",
      "source": [
        "train_tokens = 0\n",
        "for input_batch, target_batch in train_loader:\n",
        "    train_tokens += input_batch.numel()\n",
        "\n",
        "val_tokens = 0\n",
        "for input_batch, target_batch in val_loader:\n",
        "    val_tokens += input_batch.numel()\n",
        "\n",
        "print(\"Training tokens:\", train_tokens)\n",
        "print(\"Validation tokens:\", val_tokens)\n",
        "print(\"All tokens:\", train_tokens + val_tokens)"
      ],
      "metadata": {
        "colab": {
          "base_uri": "https://localhost:8080/"
        },
        "id": "PY8NvLcA_rRg",
        "outputId": "359c7838-b109-462a-de4a-0dca4f977c47"
      },
      "execution_count": 26,
      "outputs": [
        {
          "output_type": "stream",
          "name": "stdout",
          "text": [
            "Training tokens: 4608\n",
            "Validation tokens: 512\n",
            "All tokens: 5120\n"
          ]
        }
      ]
    },
    {
      "cell_type": "markdown",
      "source": [
        "- Next, we implement a utility function to calculate the cross-entropy loss of a given batch\n",
        "- In addition, we implement a second utility function to compute the loss for a user-specified number of batches in a data loader"
      ],
      "metadata": {
        "id": "xfpt7jxe_0mW"
      }
    },
    {
      "cell_type": "code",
      "source": [
        "def calc_loss_batch(input_batch, target_batch, model, device):\n",
        "    input_batch = input_batch.to(device)\n",
        "    target_batch = target_batch.to(device)\n",
        "    logits = model(input_batch)\n",
        "    loss = torch.nn.functional.cross_entropy(logits.flatten(0, 1), target_batch.flatten())\n",
        "    return loss\n",
        "\n",
        "def calc_loss_loader(data_loader, model, device, num_batches=None):\n",
        "    total_loss = 0.\n",
        "    if len(data_loader) == 0:\n",
        "        return float(\"nan\")\n",
        "    elif num_batches is None:\n",
        "        num_batches = len(data_loader)\n",
        "    else:\n",
        "        # Reduce the number of batches to match the total number of batches in the data loader\n",
        "        # if num_batches exceeds the number of batches in the data loader\n",
        "        num_batches = min(num_batches, len(data_loader))\n",
        "    for i, (input_batch, target_batch) in enumerate(data_loader):\n",
        "        if i < num_batches:\n",
        "            loss = calc_loss_batch(input_batch, target_batch, model, device)\n",
        "            total_loss += loss.item()\n",
        "        else:\n",
        "            break\n",
        "    return total_loss / num_batches"
      ],
      "metadata": {
        "id": "yorDDjx8_2w5"
      },
      "execution_count": 27,
      "outputs": []
    },
    {
      "cell_type": "code",
      "source": [
        "device = torch.device(\"cuda\" if torch.cuda.is_available() else \"cpu\")\n",
        "\n",
        "#if torch.cuda.is_available():\n",
        "#    device = torch.device(\"cuda\")\n",
        "#elif torch.backends.mps.is_available():\n",
        "#    device = torch.device(\"mps\")\n",
        "#else:\n",
        "#    device = torch.device(\"cpu\")\n",
        "#\n",
        "# print(f\"Using {device} device.\")\n",
        "\n",
        "model.to(device) # no assignment model = model.to(device) necessary for nn.Module classes\n",
        "\n",
        "torch.manual_seed(123) # For reproducibility due to the shuffling in the data loader\n",
        "\n",
        "with torch.no_grad(): # Disable gradient tracking for efficiency because we are not training, yet\n",
        "    train_loss = calc_loss_loader(train_loader, model, device)\n",
        "    val_loss = calc_loss_loader(val_loader, model, device)\n",
        "\n",
        "print(\"Training loss:\", train_loss)\n",
        "print(\"Validation loss:\", val_loss)"
      ],
      "metadata": {
        "colab": {
          "base_uri": "https://localhost:8080/"
        },
        "id": "CnwPeuu-AlsP",
        "outputId": "5315be9b-fd90-4d4c-ac26-5b960ff8f1bc"
      },
      "execution_count": 28,
      "outputs": [
        {
          "output_type": "stream",
          "name": "stdout",
          "text": [
            "Training loss: 10.995648701985678\n",
            "Validation loss: 11.003254890441895\n"
          ]
        }
      ]
    },
    {
      "cell_type": "markdown",
      "source": [
        "#### Training an LLM"
      ],
      "metadata": {
        "id": "mma3dhOhGNIj"
      }
    },
    {
      "cell_type": "code",
      "source": [
        "def train_model_simple(model, train_loader, val_loader, optimizer, device, num_epochs,\n",
        "                       eval_freq, eval_iter, start_context, tokenizer):\n",
        "    # Initialize lists to track losses and tokens seen\n",
        "    train_losses, val_losses, track_tokens_seen = [], [], []\n",
        "    tokens_seen, global_step = 0, -1\n",
        "\n",
        "    # Main training loop\n",
        "    for epoch in range(num_epochs):\n",
        "        model.train()  # Set model to training mode\n",
        "\n",
        "        for input_batch, target_batch in train_loader:\n",
        "            optimizer.zero_grad() # Reset loss gradients from previous batch iteration\n",
        "            loss = calc_loss_batch(input_batch, target_batch, model, device)\n",
        "            loss.backward() # Calculate loss gradients\n",
        "            optimizer.step() # Update model weights using loss gradients\n",
        "            tokens_seen += input_batch.numel()\n",
        "            global_step += 1\n",
        "\n",
        "            # Optional evaluation step\n",
        "            if global_step % eval_freq == 0:\n",
        "                train_loss, val_loss = evaluate_model(\n",
        "                    model, train_loader, val_loader, device, eval_iter)\n",
        "                train_losses.append(train_loss)\n",
        "                val_losses.append(val_loss)\n",
        "                track_tokens_seen.append(tokens_seen)\n",
        "                print(f\"Ep {epoch+1} (Step {global_step:06d}): \"\n",
        "                      f\"Train loss {train_loss:.3f}, Val loss {val_loss:.3f}\")\n",
        "\n",
        "        # Print a sample text after each epoch\n",
        "        generate_and_print_sample(\n",
        "            model, tokenizer, device, start_context\n",
        "        )\n",
        "\n",
        "    return train_losses, val_losses, track_tokens_seen\n",
        "\n",
        "\n",
        "def evaluate_model(model, train_loader, val_loader, device, eval_iter):\n",
        "    model.eval()\n",
        "    with torch.no_grad():\n",
        "        train_loss = calc_loss_loader(train_loader, model, device, num_batches=eval_iter)\n",
        "        val_loss = calc_loss_loader(val_loader, model, device, num_batches=eval_iter)\n",
        "    model.train()\n",
        "    return train_loss, val_loss\n",
        "\n",
        "\n",
        "def generate_and_print_sample(model, tokenizer, device, start_context):\n",
        "    model.eval()\n",
        "    context_size = model.pos_emb.weight.shape[0]\n",
        "    encoded = text_to_token_ids(start_context, tokenizer).to(device)\n",
        "    with torch.no_grad():\n",
        "        token_ids = generate_text_simple(\n",
        "            model=model, idx=encoded,\n",
        "            max_new_tokens=50, context_size=context_size\n",
        "        )\n",
        "    decoded_text = token_ids_to_text(token_ids, tokenizer)\n",
        "    print(decoded_text.replace(\"\\n\", \" \"))  # Compact print format\n",
        "    model.train()\n"
      ],
      "metadata": {
        "id": "Eh_cyJkRGXdf"
      },
      "execution_count": 31,
      "outputs": []
    },
    {
      "cell_type": "code",
      "source": [
        "# train the LLM using the training function defined above:\n",
        "\n",
        "torch.manual_seed(123)\n",
        "model = GPTModel(GPT_CONFIG_124M)\n",
        "model.to(device)\n",
        "optimizer = torch.optim.AdamW(model.parameters(), lr=0.0004, weight_decay=0.1)\n",
        "\n",
        "num_epochs = 6\n",
        "train_losses, val_losses, tokens_seen = train_model_simple(\n",
        "    model, train_loader, val_loader, optimizer, device,\n",
        "    num_epochs=num_epochs, eval_freq=5, eval_iter=5,\n",
        "    start_context=\"Every effort moves you\", tokenizer=tokenizer\n",
        ")"
      ],
      "metadata": {
        "colab": {
          "base_uri": "https://localhost:8080/"
        },
        "id": "d0a90y71IxvK",
        "outputId": "16b46266-f0e8-462d-9855-d3e2305d4d97"
      },
      "execution_count": 33,
      "outputs": [
        {
          "output_type": "stream",
          "name": "stdout",
          "text": [
            "Ep 1 (Step 000000): Train loss 10.636, Val loss 10.763\n",
            "Ep 1 (Step 000005): Train loss 9.312, Val loss 9.438\n",
            "Every effort moves you,,,,,,,,,,,,,,,,,,,,,,,,,,,,,,,,,,,,,,,,,,,,,,,,,,\n",
            "Ep 2 (Step 000010): Train loss 8.301, Val loss 8.502\n",
            "Ep 2 (Step 000015): Train loss 7.348, Val loss 7.648\n",
            "Every effort moves you,,,,,,,,,,,,,,,,,,,,,,,,,,,,,,,,,,,,,,,,,,,,,,,,,,\n",
            "Ep 3 (Step 000020): Train loss 6.626, Val loss 7.025\n",
            "Ep 3 (Step 000025): Train loss 6.145, Val loss 6.686\n",
            "Every effort moves you, the, the, the, the, the,.                                      \n",
            "Ep 4 (Step 000030): Train loss 5.898, Val loss 6.581\n",
            "Ep 4 (Step 000035): Train loss 5.602, Val loss 6.503\n",
            "Every effort moves you.                                                 \n",
            "Ep 5 (Step 000040): Train loss 5.386, Val loss 6.397\n",
            "Every effort moves you-- a the          \"I--I--I--I--I--, and, and, and, and I had to the.             \n",
            "Ep 6 (Step 000045): Train loss 5.104, Val loss 6.299\n",
            "Ep 6 (Step 000050): Train loss 4.715, Val loss 6.253\n",
            "Every effort moves you--and--and I had been.     \"I--I I had the.                             \n"
          ]
        }
      ]
    },
    {
      "cell_type": "code",
      "source": [
        "import matplotlib.pyplot as plt\n",
        "from matplotlib.ticker import MaxNLocator\n",
        "\n",
        "def plot_losses(epochs_seen, tokens_seen, train_losses, val_losses):\n",
        "    fig, ax1 = plt.subplots(figsize=(5, 3))\n",
        "\n",
        "    # Plot training and validation loss against epochs\n",
        "    ax1.plot(epochs_seen, train_losses, label=\"Training loss\")\n",
        "    ax1.plot(epochs_seen, val_losses, linestyle=\"-.\", label=\"Validation loss\")\n",
        "    ax1.set_xlabel(\"Epochs\")\n",
        "    ax1.set_ylabel(\"Loss\")\n",
        "    ax1.legend(loc=\"upper right\")\n",
        "    ax1.xaxis.set_major_locator(MaxNLocator(integer=True))  # only show integer labels on x-axis\n",
        "\n",
        "    # Create a second x-axis for tokens seen\n",
        "    ax2 = ax1.twiny()  # Create a second x-axis that shares the same y-axis\n",
        "    ax2.plot(tokens_seen, train_losses, alpha=0)  # Invisible plot for aligning ticks\n",
        "    ax2.set_xlabel(\"Tokens seen\")\n",
        "\n",
        "    fig.tight_layout()  # Adjust layout to make room\n",
        "    plt.savefig(\"loss-plot.pdf\")\n",
        "    plt.show()\n",
        "\n",
        "epochs_tensor = torch.linspace(0, num_epochs, len(train_losses))\n",
        "plot_losses(epochs_tensor, tokens_seen, train_losses, val_losses)"
      ],
      "metadata": {
        "colab": {
          "base_uri": "https://localhost:8080/",
          "height": 307
        },
        "id": "HUI1JSIGKZWM",
        "outputId": "686c963f-f873-4486-b0b5-90b4ee91d731"
      },
      "execution_count": 34,
      "outputs": [
        {
          "output_type": "display_data",
          "data": {
            "text/plain": [
              "<Figure size 500x300 with 2 Axes>"
            ],
            "image/png": "[encoded data removed]"
          },
          "metadata": {}
        }
      ]
    },
    {
      "cell_type": "markdown",
      "source": [
        "#### Decoding strategies to control randomness\n",
        "\n",
        "- the next generated token is the token corresponding to the largest probability score among all tokens in the vocabulary"
      ],
      "metadata": {
        "id": "pOSEAJVIOiWb"
      }
    },
    {
      "cell_type": "code",
      "source": [
        "model.to(\"cpu\")\n",
        "model.eval()\n",
        "\n",
        "tokenizer = tiktoken.get_encoding(\"gpt2\")\n",
        "\n",
        "token_ids = generate_text_simple(\n",
        "    model=model,\n",
        "    idx=text_to_token_ids(\"Every effort moves you\", tokenizer),\n",
        "    max_new_tokens=25,\n",
        "    context_size=GPT_CONFIG_124M[\"context_length\"]\n",
        ")\n",
        "\n",
        "print(\"Output text:\\n\", token_ids_to_text(token_ids, tokenizer))"
      ],
      "metadata": {
        "colab": {
          "base_uri": "https://localhost:8080/"
        },
        "id": "QV-J0lDyOusB",
        "outputId": "76f7fdcc-2250-490c-b684-765f44494930"
      },
      "execution_count": 37,
      "outputs": [
        {
          "output_type": "stream",
          "name": "stdout",
          "text": [
            "Output text:\n",
            " Every effort moves you--and--and I had been.\n",
            "\n",
            "\n",
            "\n",
            "\n",
            "\"I--I I had the.\n",
            "\n",
            "\n",
            "\n",
            "\n"
          ]
        }
      ]
    },
    {
      "cell_type": "markdown",
      "source": [
        "#### Temperature scaling\n",
        "\n",
        "- Previously, we always sampled the token with the highest probability as the next token using torch.argmax\n",
        "- To add variety, we can sample the next token using The torch.multinomial(probs, num_samples=1), sampling from a probability distribution\n",
        "- Here, each index's chance of being picked corresponds to its probability in the input tensor"
      ],
      "metadata": {
        "id": "QJUdDzxbSZng"
      }
    },
    {
      "cell_type": "code",
      "source": [
        "vocab = {\n",
        "    \"closer\": 0,\n",
        "    \"every\": 1,\n",
        "    \"effort\": 2,\n",
        "    \"forward\": 3,\n",
        "    \"inches\": 4,\n",
        "    \"moves\": 5,\n",
        "    \"pizza\": 6,\n",
        "    \"toward\": 7,\n",
        "    \"you\": 8,\n",
        "}\n",
        "\n",
        "inverse_vocab = {v: k for k, v in vocab.items()}\n",
        "\n",
        "# Suppose input is \"every effort moves you\", and the LLM\n",
        "# returns the following logits for the next token:\n",
        "next_token_logits = torch.tensor(\n",
        "    [4.51, 0.89, -1.90, 6.75, 1.63, -1.62, -1.89, 6.28, 1.79]\n",
        ")\n",
        "\n",
        "probas = torch.softmax(next_token_logits, dim=0)\n",
        "next_token_id = torch.argmax(probas).item()\n",
        "\n",
        "# The next generated token is then as follows:\n",
        "print(inverse_vocab[next_token_id])"
      ],
      "metadata": {
        "colab": {
          "base_uri": "https://localhost:8080/"
        },
        "id": "49VlYnooSvRA",
        "outputId": "7754443f-030d-4704-d2f7-79f8b127c00e"
      },
      "execution_count": 38,
      "outputs": [
        {
          "output_type": "stream",
          "name": "stdout",
          "text": [
            "forward\n"
          ]
        }
      ]
    },
    {
      "cell_type": "code",
      "source": [
        "torch.manual_seed(123)\n",
        "next_token_id = torch.multinomial(probas, num_samples=1).item()\n",
        "\n",
        "print(inverse_vocab[next_token_id])"
      ],
      "metadata": {
        "colab": {
          "base_uri": "https://localhost:8080/"
        },
        "id": "4aulSPTNS7V8",
        "outputId": "f9f9dee2-c1ec-403b-8b89-2e5dc3330a63"
      },
      "execution_count": 40,
      "outputs": [
        {
          "output_type": "stream",
          "name": "stdout",
          "text": [
            "toward\n"
          ]
        }
      ]
    },
    {
      "cell_type": "markdown",
      "source": [
        "- Instead of determining the most likely token via `torch.argmax`, we use `torch.multinomial(probas, num_samples=1)` to determine the most likely token by sampling from the softmax distribution"
      ],
      "metadata": {
        "id": "x20oKOSLTEb8"
      }
    },
    {
      "cell_type": "code",
      "source": [
        "def print_sampled_tokens(probas):\n",
        "    torch.manual_seed(123) # Manual seed for reproducibility\n",
        "    sample = [torch.multinomial(probas, num_samples=1).item() for i in range(1_000)]\n",
        "    sampled_ids = torch.bincount(torch.tensor(sample), minlength=len(probas))\n",
        "    for i, freq in enumerate(sampled_ids):\n",
        "        print(f\"{freq} x {inverse_vocab[i]}\")\n",
        "\n",
        "print_sampled_tokens(probas)"
      ],
      "metadata": {
        "colab": {
          "base_uri": "https://localhost:8080/"
        },
        "id": "K65fkJJLTOFY",
        "outputId": "487fbba1-afcc-49ea-c899-2f65dd878dc7"
      },
      "execution_count": 41,
      "outputs": [
        {
          "output_type": "stream",
          "name": "stdout",
          "text": [
            "71 x closer\n",
            "2 x every\n",
            "0 x effort\n",
            "544 x forward\n",
            "2 x inches\n",
            "1 x moves\n",
            "0 x pizza\n",
            "376 x toward\n",
            "4 x you\n"
          ]
        }
      ]
    },
    {
      "cell_type": "markdown",
      "source": [
        "- We can control the distribution and selection process via a concept called temperature scaling\n",
        "- Temperatures greater than 1 will result in more uniformly distributed token probabilities after applying the softmax\n",
        "- Temperatures smaller than 1 will result in more confident (sharper or more peaky) distributions after applying the softmax"
      ],
      "metadata": {
        "id": "gIsHSnsRTUFY"
      }
    },
    {
      "cell_type": "code",
      "source": [
        "def softmax_with_temperature(logits, temperature):\n",
        "    scaled_logits = logits / temperature\n",
        "    return torch.softmax(scaled_logits, dim=0)\n",
        "\n",
        "# Temperature values\n",
        "temperatures = [1, 0.1, 5]  # Original, higher confidence, and lower confidence\n",
        "\n",
        "# Calculate scaled probabilities\n",
        "scaled_probas = [softmax_with_temperature(next_token_logits, T) for T in temperatures]"
      ],
      "metadata": {
        "id": "MTMA_-8xUcyr"
      },
      "execution_count": 42,
      "outputs": []
    },
    {
      "cell_type": "code",
      "source": [
        "# Plotting\n",
        "x = torch.arange(len(vocab))\n",
        "bar_width = 0.15\n",
        "\n",
        "fig, ax = plt.subplots(figsize=(5, 3))\n",
        "for i, T in enumerate(temperatures):\n",
        "    rects = ax.bar(x + i * bar_width, scaled_probas[i], bar_width, label=f'Temperature = {T}')\n",
        "\n",
        "ax.set_ylabel('Probability')\n",
        "ax.set_xticks(x)\n",
        "ax.set_xticklabels(vocab.keys(), rotation=90)\n",
        "ax.legend()\n",
        "\n",
        "plt.tight_layout()\n",
        "plt.savefig(\"temperature-plot.pdf\")\n",
        "plt.show()"
      ],
      "metadata": {
        "colab": {
          "base_uri": "https://localhost:8080/",
          "height": 307
        },
        "id": "NAV4mPUqUe1j",
        "outputId": "a0aeb08c-d911-41bd-b656-6594290b01e9"
      },
      "execution_count": 43,
      "outputs": [
        {
          "output_type": "display_data",
          "data": {
            "text/plain": [
              "<Figure size 500x300 with 1 Axes>"
            ],
            "image/png": "[encoded data removed]"
          },
          "metadata": {}
        }
      ]
    },
    {
      "cell_type": "markdown",
      "source": [
        "- We can see that the rescaling via temperature 0.1 results in a sharper distribution, approaching `torch.argmax`, such that the most likely word is almost always selected:"
      ],
      "metadata": {
        "id": "JP5fl9cRUmRA"
      }
    },
    {
      "cell_type": "code",
      "source": [
        "print_sampled_tokens(scaled_probas[1])"
      ],
      "metadata": {
        "colab": {
          "base_uri": "https://localhost:8080/"
        },
        "id": "y8B4ZqqOU_H9",
        "outputId": "8cf35a78-90ca-4282-8a21-df49ebb12254"
      },
      "execution_count": 44,
      "outputs": [
        {
          "output_type": "stream",
          "name": "stdout",
          "text": [
            "0 x closer\n",
            "0 x every\n",
            "0 x effort\n",
            "992 x forward\n",
            "0 x inches\n",
            "0 x moves\n",
            "0 x pizza\n",
            "8 x toward\n",
            "0 x you\n"
          ]
        }
      ]
    },
    {
      "cell_type": "code",
      "source": [
        "print_sampled_tokens(scaled_probas[2])"
      ],
      "metadata": {
        "colab": {
          "base_uri": "https://localhost:8080/"
        },
        "id": "fptIr6hJVGfd",
        "outputId": "f166982f-81c7-49ec-fb90-8031a591059b"
      },
      "execution_count": 45,
      "outputs": [
        {
          "output_type": "stream",
          "name": "stdout",
          "text": [
            "153 x closer\n",
            "68 x every\n",
            "55 x effort\n",
            "223 x forward\n",
            "102 x inches\n",
            "50 x moves\n",
            "43 x pizza\n",
            "218 x toward\n",
            "88 x you\n"
          ]
        }
      ]
    },
    {
      "cell_type": "markdown",
      "source": [
        "#### Top-k sampling"
      ],
      "metadata": {
        "id": "GWZJXAliVnvM"
      }
    },
    {
      "cell_type": "code",
      "source": [
        "top_k = 3\n",
        "top_logits, top_pos = torch.topk(next_token_logits, top_k)\n",
        "\n",
        "print(\"Top logits:\", top_logits)\n",
        "print(\"Top positions:\", top_pos)"
      ],
      "metadata": {
        "colab": {
          "base_uri": "https://localhost:8080/"
        },
        "id": "vfX6PAlqVtg3",
        "outputId": "bc3c0b72-1ad4-4f81-ee57-0431480954ac"
      },
      "execution_count": 46,
      "outputs": [
        {
          "output_type": "stream",
          "name": "stdout",
          "text": [
            "Top logits: tensor([6.7500, 6.2800, 4.5100])\n",
            "Top positions: tensor([3, 7, 0])\n"
          ]
        }
      ]
    },
    {
      "cell_type": "code",
      "source": [
        "new_logits = torch.where(\n",
        "    condition=next_token_logits < top_logits[-1],\n",
        "    input=torch.tensor(float(\"-inf\")),\n",
        "    other=next_token_logits\n",
        ")\n",
        "\n",
        "print(new_logits)"
      ],
      "metadata": {
        "colab": {
          "base_uri": "https://localhost:8080/"
        },
        "id": "LxVuLvouVxFH",
        "outputId": "16e5ac62-e53d-4cdb-d229-4c7e6ae01529"
      },
      "execution_count": 47,
      "outputs": [
        {
          "output_type": "stream",
          "name": "stdout",
          "text": [
            "tensor([4.5100,   -inf,   -inf, 6.7500,   -inf,   -inf,   -inf, 6.2800,   -inf])\n"
          ]
        }
      ]
    },
    {
      "cell_type": "code",
      "source": [
        "topk_probas = torch.softmax(new_logits, dim=0)\n",
        "\n",
        "print(topk_probas)"
      ],
      "metadata": {
        "colab": {
          "base_uri": "https://localhost:8080/"
        },
        "id": "W1ErzNY8WBo-",
        "outputId": "4f119ff5-4a11-4834-b4f3-e18711d2e6e1"
      },
      "execution_count": 49,
      "outputs": [
        {
          "output_type": "stream",
          "name": "stdout",
          "text": [
            "tensor([0.0615, 0.0000, 0.0000, 0.5775, 0.0000, 0.0000, 0.0000, 0.3610, 0.0000])\n"
          ]
        }
      ]
    },
    {
      "cell_type": "markdown",
      "source": [
        "#### Modifying the text generation function"
      ],
      "metadata": {
        "id": "cyRtWVSlWHLB"
      }
    },
    {
      "cell_type": "code",
      "source": [
        "def generate(model, idx, max_new_tokens, context_size, temperature=0.0, top_k=None, eos_id=None):\n",
        "\n",
        "    # For-loop is the same as before: Get logits, and only focus on last time step\n",
        "    for _ in range(max_new_tokens):\n",
        "        idx_cond = idx[:, -context_size:]\n",
        "        with torch.no_grad():\n",
        "            logits = model(idx_cond)\n",
        "        logits = logits[:, -1, :]\n",
        "\n",
        "        # New: Filter logits with top_k sampling\n",
        "        if top_k is not None:\n",
        "            # Keep only top_k values\n",
        "            top_logits, _ = torch.topk(logits, top_k)\n",
        "            min_val = top_logits[:, -1]\n",
        "            logits = torch.where(logits < min_val, torch.tensor(float(\"-inf\")).to(logits.device), logits)\n",
        "\n",
        "        # New: Apply temperature scaling\n",
        "        if temperature > 0.0:\n",
        "            logits = logits / temperature\n",
        "\n",
        "            # Apply softmax to get probabilities\n",
        "            probs = torch.softmax(logits, dim=-1)  # (batch_size, context_len)\n",
        "\n",
        "            # Sample from the distribution\n",
        "            idx_next = torch.multinomial(probs, num_samples=1)  # (batch_size, 1)\n",
        "\n",
        "        # Otherwise same as before: get idx of the vocab entry with the highest logits value\n",
        "        else:\n",
        "            idx_next = torch.argmax(logits, dim=-1, keepdim=True)  # (batch_size, 1)\n",
        "\n",
        "        if idx_next == eos_id:  # Stop generating early if end-of-sequence token is encountered and eos_id is specified\n",
        "            break\n",
        "\n",
        "        # Same as before: append sampled index to the running sequence\n",
        "        idx = torch.cat((idx, idx_next), dim=1)  # (batch_size, num_tokens+1)\n",
        "\n",
        "    return idx"
      ],
      "metadata": {
        "id": "i-sh1IgzWdAA"
      },
      "execution_count": 50,
      "outputs": []
    },
    {
      "cell_type": "code",
      "source": [
        "torch.manual_seed(123)\n",
        "\n",
        "token_ids = generate(\n",
        "    model=model,\n",
        "    idx=text_to_token_ids(\"Every effort moves you\", tokenizer),\n",
        "    max_new_tokens=15,\n",
        "    context_size=GPT_CONFIG_124M[\"context_length\"],\n",
        "    top_k=25,\n",
        "    temperature=1.4\n",
        ")\n",
        "\n",
        "print(\"Output text:\\n\", token_ids_to_text(token_ids, tokenizer))"
      ],
      "metadata": {
        "colab": {
          "base_uri": "https://localhost:8080/"
        },
        "id": "5J1pgp2SWez4",
        "outputId": "a5da17cd-2648-413e-b2a9-6cf5dcead3a7"
      },
      "execution_count": 51,
      "outputs": [
        {
          "output_type": "stream",
          "name": "stdout",
          "text": [
            "Output text:\n",
            " Every effort moves you have I- my one--I II was of\n",
            "\"I by\n"
          ]
        }
      ]
    },
    {
      "cell_type": "markdown",
      "source": [
        "### Loading and saving model weights in PyTorch\n",
        "\n",
        "- In PyTorch is to save the model weights, the so-called `state_dict` via by applying the `torch.save` function to the `.state_dict()` method:"
      ],
      "metadata": {
        "id": "t-0jDvFuWob5"
      }
    },
    {
      "cell_type": "code",
      "source": [
        "torch.save(model.state_dict(), \"model.pth\")"
      ],
      "metadata": {
        "id": "0W6Pvg58W34F"
      },
      "execution_count": 52,
      "outputs": []
    },
    {
      "cell_type": "code",
      "source": [
        "model = GPTModel(GPT_CONFIG_124M)\n",
        "device = torch.device(\"cuda\" if torch.cuda.is_available() else \"cpu\")\n",
        "model.load_state_dict(torch.load(\"model.pth\", map_location=device, weights_only=True))\n",
        "model.eval();"
      ],
      "metadata": {
        "id": "6GvDmSShW9QC"
      },
      "execution_count": 53,
      "outputs": []
    },
    {
      "cell_type": "code",
      "source": [
        "torch.save({\n",
        "    \"model_state_dict\": model.state_dict(),\n",
        "    \"optimizer_state_dict\": optimizer.state_dict(),\n",
        "    },\n",
        "    \"model_and_optimizer.pth\"\n",
        ")"
      ],
      "metadata": {
        "id": "3jYQD4gwXH_2"
      },
      "execution_count": 54,
      "outputs": []
    },
    {
      "cell_type": "code",
      "source": [
        "checkpoint = torch.load(\"model_and_optimizer.pth\", weights_only=True)\n",
        "\n",
        "model = GPTModel(GPT_CONFIG_124M)\n",
        "model.load_state_dict(checkpoint[\"model_state_dict\"])\n",
        "\n",
        "optimizer = torch.optim.AdamW(model.parameters(), lr=0.0005, weight_decay=0.1)\n",
        "optimizer.load_state_dict(checkpoint[\"optimizer_state_dict\"])\n",
        "model.train();\n"
      ],
      "metadata": {
        "id": "li6eTuFiXOYZ"
      },
      "execution_count": 55,
      "outputs": []
    }
  ]
}